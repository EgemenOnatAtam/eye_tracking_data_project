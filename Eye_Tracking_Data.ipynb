{
  "nbformat": 4,
  "nbformat_minor": 0,
  "metadata": {
    "colab": {
      "provenance": []
    },
    "kernelspec": {
      "name": "python3",
      "display_name": "Python 3"
    },
    "language_info": {
      "name": "python"
    },
    "accelerator": "GPU",
    "gpuClass": "standard"
  },
  "cells": [
    {
      "cell_type": "code",
      "execution_count": 81,
      "metadata": {
        "colab": {
          "base_uri": "https://localhost:8080/"
        },
        "id": "ahfm3FZLtBi9",
        "outputId": "75a2d0f5-8a4b-4967-cb9e-a651e1413bcd"
      },
      "outputs": [
        {
          "output_type": "stream",
          "name": "stdout",
          "text": [
            "Drive already mounted at /content/drive/; to attempt to forcibly remount, call drive.mount(\"/content/drive/\", force_remount=True).\n"
          ]
        }
      ],
      "source": [
        "#import libraries\n",
        "import os\n",
        "import pandas as pd\n",
        "from google.colab.patches import cv2_imshow\n",
        "from google.colab import drive\n",
        "drive.mount('/content/drive/')\n",
        "import warnings\n",
        "warnings.filterwarnings(\"ignore\")"
      ]
    },
    {
      "cell_type": "code",
      "source": [
        "#this line is for going into the google drive file where the project files included\n",
        "%cd /content/drive/MyDrive/eye tracking participant data"
      ],
      "metadata": {
        "colab": {
          "base_uri": "https://localhost:8080/"
        },
        "id": "_Al3ek1ZtZqu",
        "outputId": "988ccb97-d1b5-4d02-acb7-343012235b76"
      },
      "execution_count": 82,
      "outputs": [
        {
          "output_type": "stream",
          "name": "stdout",
          "text": [
            "/content/drive/.shortcut-targets-by-id/1-IONyJb2HClD2KfeJtVgrsV4IMwJsd26/eye tracking participant data\n"
          ]
        }
      ]
    },
    {
      "cell_type": "code",
      "source": [
        "#show the files inside the eye tracking participants folder\n",
        "%ls"
      ],
      "metadata": {
        "colab": {
          "base_uri": "https://localhost:8080/"
        },
        "id": "llt6d1XttlSv",
        "outputId": "aec00cbe-129f-45ef-f085-d58f091169b4"
      },
      "execution_count": 83,
      "outputs": [
        {
          "output_type": "stream",
          "name": "stdout",
          "text": [
            "emorec_ctrlF128_e.xlsx   emorec_ctrlm3424_e.xlsx  emorecF637_e.xlsx\n",
            "emorec_ctrlF2521_e.xlsx  emorec_ctrlm3525_e.xlsx  emorecF6622_e.xlsx\n",
            "emorec_ctrlF2722_e.xlsx  emorec_ctrlm3626_e.xlsx  emorecF7024_e.xlsx\n",
            "emorec_ctrlF2822_e.xlsx  emorec_ctrlm3920_e.xlsx  emorecF7621_e.xlsx\n",
            "emorec_ctrlF3118_e.xlsx  emorec_ctrlm5227_e.xlsx  emorecF7733_e.xlsx\n",
            "emorec_ctrlF3730_e.xlsx  emorec_ctrlm6223_e.xlsx  emorecF820_e.xlsx\n",
            "emorec_ctrlF3820_e.xlsx  emorec_ctrlm6320_e.xlsx  emorecm1119_e.xlsx\n",
            "emorec_ctrlF4121_e.xlsx  emorec_ctrlm6418_e.xlsx  emorecm1233_e.xlsx\n",
            "emorec_ctrlF4221_e.xlsx  emorec_ctrlm6522_e.xlsx  emorecm1419_e.xlsx\n",
            "emorec_ctrlF4419_e.xlsx  emorec_ctrlm7220_e.xlsx  emorecm1624_e.xlsx\n",
            "emorec_ctrlF4720_e.xlsx  emorec_ctrlm7539_e.xlsx  emorecm1820_e.xlsx\n",
            "emorec_ctrlF5024_e.xlsx  emorec_ctrlm7919_e.xlsx  emorecm1921_e.xlsx\n",
            "emorec_ctrlF5119_e.xlsx  emorec_ctrlm8221_e.xlsx  emorecm2121_e.xlsx\n",
            "emorec_ctrlF5435_e.xlsx  emorecF1029_e.xlsx       emorecm4028_e.xlsx\n",
            "emorec_ctrlF5530_e.xlsx  emorecF1320_e.xlsx       emorecm4333_e.xlsx\n",
            "emorec_ctrlF5723_e.xlsx  emorecF1531_e.xlsx       emorecm4524_e.xlsx\n",
            "emorec_ctrlF6721_e.xlsx  emorecF1738_e.xlsx       emorecm4623_e.xlsx\n",
            "emorec_ctrlF7434_e.xlsx  emorecF228_e.xlsx        emorecm4820_e.xlsx\n",
            "emorec_ctrlF8024_e.xlsx  emorecF426_e.xlsx        emorecm5922_e.xlsx\n",
            "emorec_ctrlF8124_e.xlsx  emorecF4921_e.xlsx       emorecm6824_e.xlsx\n",
            "emorec_ctrlm2220_e.xlsx  emorecF4e25_e.xlsx       emorecm7118_e.xlsx\n",
            "emorec_ctrlm2323_e.xlsx  emorecF530_e.xlsx        emorecm727_e.xlsx\n",
            "emorec_ctrlm2427_e.xlsx  emorecF5319_e.xlsx       emorecm7321_e.xlsx\n",
            "emorec_ctrlm2922_e.xlsx  emorecF5626_e.xlsx       emorecm7826_e.xlsx\n",
            "emorec_ctrlm3021_e.xlsx  emorecF5828_e.xlsx       emorecm8322_e.xlsx\n",
            "emorec_ctrlm3225_e.xlsx  emorecF6021_e.xlsx       emorecm920_e.xlsx\n",
            "emorec_ctrlm3322_e.xlsx  emorecF6121_e.xlsx\n"
          ]
        }
      ]
    },
    {
      "cell_type": "code",
      "source": [
        "folder_path = os.getcwd()"
      ],
      "metadata": {
        "id": "oIo4_iKjtumJ"
      },
      "execution_count": 84,
      "outputs": []
    },
    {
      "cell_type": "code",
      "source": [
        "# Get a list of all participant files in the folder\n",
        "excel_files = [f for f in os.listdir(folder_path) if f.endswith('.xlsx')]\n"
      ],
      "metadata": {
        "id": "kR9PCHlOuMsR"
      },
      "execution_count": 85,
      "outputs": []
    },
    {
      "cell_type": "code",
      "source": [
        "# Create an empty dataframe to store the excel files\n",
        "dfs = pd.DataFrame()\n",
        "\n",
        "# Loop through each excel file, read it into a pandas dataframe, and concat it to the dfs dataframe\n",
        "for file in excel_files:\n",
        "  file_path = os.path.join(folder_path, file)\n",
        "  print(f\"loading file {file}...\")\n",
        "  df = pd.read_excel(file_path)\n",
        "  # Add a column with the name of the excel file\n",
        "  df['FileName'] = os.path.splitext(file)[0]  \n",
        "  dfs = pd.concat([dfs,df], ignore_index=True)\n",
        "  \n",
        "\n",
        "#Data that needs to remain in the Excel file:\n",
        "#TIME, FPOGX, FPOGY, FPOGS, FPOGD, FPOGID, FPOGV, LPUPILD, LPUPILV, RPUPILD, RPUPILV, USER\n",
        "dfs = dfs[['TIME', 'FPOGX', 'FPOGY', 'FPOGS', 'FPOGD', 'FPOGID', 'FPOGV', 'LPUPILD', 'LPUPILV', 'RPUPILD', 'RPUPILV', 'USER','FileName']]\n",
        "#Any values that do not contain STIMULI_ONSET string under the USER column should be deleted.\n",
        "dfs = dfs[~dfs.USER.isna()]\n",
        "dfs = dfs[dfs.USER.str.contains('STIMULI_ONSET')]\n",
        "    "
      ],
      "metadata": {
        "colab": {
          "base_uri": "https://localhost:8080/"
        },
        "id": "JmQ2UkzhwXg_",
        "outputId": "bbb9526b-bfab-425e-9561-f72c5ffef1a9"
      },
      "execution_count": 86,
      "outputs": [
        {
          "output_type": "stream",
          "name": "stdout",
          "text": [
            "loading file emorecm4623_e.xlsx...\n",
            "loading file emorec_ctrlF2722_e.xlsx...\n",
            "loading file emorec_ctrlF2822_e.xlsx...\n",
            "loading file emorec_ctrlF3118_e.xlsx...\n",
            "loading file emorec_ctrlF3730_e.xlsx...\n",
            "loading file emorec_ctrlF3820_e.xlsx...\n",
            "loading file emorec_ctrlF4121_e.xlsx...\n",
            "loading file emorec_ctrlF4221_e.xlsx...\n",
            "loading file emorec_ctrlF4419_e.xlsx...\n",
            "loading file emorec_ctrlF4720_e.xlsx...\n",
            "loading file emorec_ctrlF5024_e.xlsx...\n",
            "loading file emorec_ctrlF5119_e.xlsx...\n",
            "loading file emorec_ctrlF5435_e.xlsx...\n",
            "loading file emorec_ctrlF5530_e.xlsx...\n",
            "loading file emorec_ctrlF5723_e.xlsx...\n",
            "loading file emorec_ctrlF7434_e.xlsx...\n",
            "loading file emorec_ctrlF8024_e.xlsx...\n",
            "loading file emorec_ctrlF8124_e.xlsx...\n",
            "loading file emorec_ctrlm2220_e.xlsx...\n",
            "loading file emorec_ctrlm2323_e.xlsx...\n",
            "loading file emorec_ctrlm2427_e.xlsx...\n",
            "loading file emorec_ctrlm2922_e.xlsx...\n",
            "loading file emorec_ctrlm3021_e.xlsx...\n",
            "loading file emorec_ctrlm3225_e.xlsx...\n",
            "loading file emorec_ctrlm3322_e.xlsx...\n",
            "loading file emorec_ctrlm3424_e.xlsx...\n",
            "loading file emorec_ctrlm3525_e.xlsx...\n",
            "loading file emorec_ctrlm3626_e.xlsx...\n",
            "loading file emorec_ctrlm3920_e.xlsx...\n",
            "loading file emorec_ctrlm5227_e.xlsx...\n",
            "loading file emorec_ctrlm6223_e.xlsx...\n",
            "loading file emorec_ctrlm6320_e.xlsx...\n",
            "loading file emorec_ctrlm6418_e.xlsx...\n",
            "loading file emorec_ctrlm6522_e.xlsx...\n",
            "loading file emorec_ctrlm7220_e.xlsx...\n",
            "loading file emorec_ctrlm7539_e.xlsx...\n",
            "loading file emorec_ctrlm7919_e.xlsx...\n",
            "loading file emorec_ctrlm8221_e.xlsx...\n",
            "loading file emorecF228_e.xlsx...\n",
            "loading file emorecF4e25_e.xlsx...\n",
            "loading file emorecF426_e.xlsx...\n",
            "loading file emorecF530_e.xlsx...\n",
            "loading file emorecF637_e.xlsx...\n",
            "loading file emorecF820_e.xlsx...\n",
            "loading file emorecF1029_e.xlsx...\n",
            "loading file emorecF1320_e.xlsx...\n",
            "loading file emorecF1738_e.xlsx...\n",
            "loading file emorecF4921_e.xlsx...\n",
            "loading file emorecF5319_e.xlsx...\n",
            "loading file emorecF5828_e.xlsx...\n",
            "loading file emorecF6021_e.xlsx...\n",
            "loading file emorecF6121_e.xlsx...\n",
            "loading file emorecF6622_e.xlsx...\n",
            "loading file emorecF7024_e.xlsx...\n",
            "loading file emorecF7733_e.xlsx...\n",
            "loading file emorecm727_e.xlsx...\n",
            "loading file emorecm920_e.xlsx...\n",
            "loading file emorecm1419_e.xlsx...\n",
            "loading file emorecm1624_e.xlsx...\n",
            "loading file emorecm1820_e.xlsx...\n",
            "loading file emorecm1921_e.xlsx...\n",
            "loading file emorecm2121_e.xlsx...\n",
            "loading file emorecm4028_e.xlsx...\n",
            "loading file emorecm4333_e.xlsx...\n",
            "loading file emorecm4524_e.xlsx...\n",
            "loading file emorecm4820_e.xlsx...\n",
            "loading file emorecm5922_e.xlsx...\n",
            "loading file emorecm6824_e.xlsx...\n",
            "loading file emorecm7118_e.xlsx...\n",
            "loading file emorecm7321_e.xlsx...\n",
            "loading file emorecm7826_e.xlsx...\n",
            "loading file emorecm8322_e.xlsx...\n",
            "loading file emorec_ctrlF2521_e.xlsx...\n",
            "loading file emorecF1531_e.xlsx...\n",
            "loading file emorecF7621_e.xlsx...\n",
            "loading file emorecF5626_e.xlsx...\n",
            "loading file emorecm1119_e.xlsx...\n",
            "loading file emorecm1233_e.xlsx...\n",
            "loading file emorec_ctrlF128_e.xlsx...\n",
            "loading file emorec_ctrlF6721_e.xlsx...\n"
          ]
        }
      ]
    },
    {
      "cell_type": "code",
      "source": [
        "dfs.shape"
      ],
      "metadata": {
        "colab": {
          "base_uri": "https://localhost:8080/"
        },
        "id": "pp0gQL5mB_FB",
        "outputId": "a99af0f5-f779-4e06-b5ea-be82ce19c171"
      },
      "execution_count": 87,
      "outputs": [
        {
          "output_type": "execute_result",
          "data": {
            "text/plain": [
              "(3409501, 13)"
            ]
          },
          "metadata": {},
          "execution_count": 87
        }
      ]
    },
    {
      "cell_type": "code",
      "source": [
        "dfs.head()"
      ],
      "metadata": {
        "colab": {
          "base_uri": "https://localhost:8080/",
          "height": 270
        },
        "id": "o7PVtZSldnlS",
        "outputId": "08566958-35c1-4576-cb6b-43c304b68f6b"
      },
      "execution_count": 100,
      "outputs": [
        {
          "output_type": "execute_result",
          "data": {
            "text/plain": [
              "           TIME    FPOGX    FPOGY      FPOGS    FPOGD  FPOGID  FPOGV  LPUPILD  \\\n",
              "2883  148.15216  0.49825  0.46377  147.79085  0.36131   257.0    1.0  0.00574   \n",
              "2884  148.17009  0.49826  0.46133  147.79085  0.37924   257.0    1.0  0.00568   \n",
              "2885  148.18607  0.49806  0.45905  147.79085  0.39522   257.0    1.0  0.00571   \n",
              "2886  148.20239  0.49787  0.45710  147.79085  0.41154   257.0    1.0  0.00571   \n",
              "2887  148.22081  0.49771  0.45584  147.79085  0.42996   257.0    1.0  0.00568   \n",
              "\n",
              "      LPUPILV  RPUPILD  RPUPILV            USER       FileName  \n",
              "2883      1.0  0.00581      1.0  STIMULI_ONSET1  emorecm4623_e  \n",
              "2884      1.0  0.00584      1.0  STIMULI_ONSET1  emorecm4623_e  \n",
              "2885      1.0  0.00584      1.0  STIMULI_ONSET1  emorecm4623_e  \n",
              "2886      1.0  0.00583      1.0  STIMULI_ONSET1  emorecm4623_e  \n",
              "2887      1.0  0.00581      1.0  STIMULI_ONSET1  emorecm4623_e  "
            ],
            "text/html": [
              "\n",
              "  <div id=\"df-87d3fbf5-4f9a-4d11-8b16-abf5449740a7\">\n",
              "    <div class=\"colab-df-container\">\n",
              "      <div>\n",
              "<style scoped>\n",
              "    .dataframe tbody tr th:only-of-type {\n",
              "        vertical-align: middle;\n",
              "    }\n",
              "\n",
              "    .dataframe tbody tr th {\n",
              "        vertical-align: top;\n",
              "    }\n",
              "\n",
              "    .dataframe thead th {\n",
              "        text-align: right;\n",
              "    }\n",
              "</style>\n",
              "<table border=\"1\" class=\"dataframe\">\n",
              "  <thead>\n",
              "    <tr style=\"text-align: right;\">\n",
              "      <th></th>\n",
              "      <th>TIME</th>\n",
              "      <th>FPOGX</th>\n",
              "      <th>FPOGY</th>\n",
              "      <th>FPOGS</th>\n",
              "      <th>FPOGD</th>\n",
              "      <th>FPOGID</th>\n",
              "      <th>FPOGV</th>\n",
              "      <th>LPUPILD</th>\n",
              "      <th>LPUPILV</th>\n",
              "      <th>RPUPILD</th>\n",
              "      <th>RPUPILV</th>\n",
              "      <th>USER</th>\n",
              "      <th>FileName</th>\n",
              "    </tr>\n",
              "  </thead>\n",
              "  <tbody>\n",
              "    <tr>\n",
              "      <th>2883</th>\n",
              "      <td>148.15216</td>\n",
              "      <td>0.49825</td>\n",
              "      <td>0.46377</td>\n",
              "      <td>147.79085</td>\n",
              "      <td>0.36131</td>\n",
              "      <td>257.0</td>\n",
              "      <td>1.0</td>\n",
              "      <td>0.00574</td>\n",
              "      <td>1.0</td>\n",
              "      <td>0.00581</td>\n",
              "      <td>1.0</td>\n",
              "      <td>STIMULI_ONSET1</td>\n",
              "      <td>emorecm4623_e</td>\n",
              "    </tr>\n",
              "    <tr>\n",
              "      <th>2884</th>\n",
              "      <td>148.17009</td>\n",
              "      <td>0.49826</td>\n",
              "      <td>0.46133</td>\n",
              "      <td>147.79085</td>\n",
              "      <td>0.37924</td>\n",
              "      <td>257.0</td>\n",
              "      <td>1.0</td>\n",
              "      <td>0.00568</td>\n",
              "      <td>1.0</td>\n",
              "      <td>0.00584</td>\n",
              "      <td>1.0</td>\n",
              "      <td>STIMULI_ONSET1</td>\n",
              "      <td>emorecm4623_e</td>\n",
              "    </tr>\n",
              "    <tr>\n",
              "      <th>2885</th>\n",
              "      <td>148.18607</td>\n",
              "      <td>0.49806</td>\n",
              "      <td>0.45905</td>\n",
              "      <td>147.79085</td>\n",
              "      <td>0.39522</td>\n",
              "      <td>257.0</td>\n",
              "      <td>1.0</td>\n",
              "      <td>0.00571</td>\n",
              "      <td>1.0</td>\n",
              "      <td>0.00584</td>\n",
              "      <td>1.0</td>\n",
              "      <td>STIMULI_ONSET1</td>\n",
              "      <td>emorecm4623_e</td>\n",
              "    </tr>\n",
              "    <tr>\n",
              "      <th>2886</th>\n",
              "      <td>148.20239</td>\n",
              "      <td>0.49787</td>\n",
              "      <td>0.45710</td>\n",
              "      <td>147.79085</td>\n",
              "      <td>0.41154</td>\n",
              "      <td>257.0</td>\n",
              "      <td>1.0</td>\n",
              "      <td>0.00571</td>\n",
              "      <td>1.0</td>\n",
              "      <td>0.00583</td>\n",
              "      <td>1.0</td>\n",
              "      <td>STIMULI_ONSET1</td>\n",
              "      <td>emorecm4623_e</td>\n",
              "    </tr>\n",
              "    <tr>\n",
              "      <th>2887</th>\n",
              "      <td>148.22081</td>\n",
              "      <td>0.49771</td>\n",
              "      <td>0.45584</td>\n",
              "      <td>147.79085</td>\n",
              "      <td>0.42996</td>\n",
              "      <td>257.0</td>\n",
              "      <td>1.0</td>\n",
              "      <td>0.00568</td>\n",
              "      <td>1.0</td>\n",
              "      <td>0.00581</td>\n",
              "      <td>1.0</td>\n",
              "      <td>STIMULI_ONSET1</td>\n",
              "      <td>emorecm4623_e</td>\n",
              "    </tr>\n",
              "  </tbody>\n",
              "</table>\n",
              "</div>\n",
              "      <button class=\"colab-df-convert\" onclick=\"convertToInteractive('df-87d3fbf5-4f9a-4d11-8b16-abf5449740a7')\"\n",
              "              title=\"Convert this dataframe to an interactive table.\"\n",
              "              style=\"display:none;\">\n",
              "        \n",
              "  <svg xmlns=\"http://www.w3.org/2000/svg\" height=\"24px\"viewBox=\"0 0 24 24\"\n",
              "       width=\"24px\">\n",
              "    <path d=\"M0 0h24v24H0V0z\" fill=\"none\"/>\n",
              "    <path d=\"M18.56 5.44l.94 2.06.94-2.06 2.06-.94-2.06-.94-.94-2.06-.94 2.06-2.06.94zm-11 1L8.5 8.5l.94-2.06 2.06-.94-2.06-.94L8.5 2.5l-.94 2.06-2.06.94zm10 10l.94 2.06.94-2.06 2.06-.94-2.06-.94-.94-2.06-.94 2.06-2.06.94z\"/><path d=\"M17.41 7.96l-1.37-1.37c-.4-.4-.92-.59-1.43-.59-.52 0-1.04.2-1.43.59L10.3 9.45l-7.72 7.72c-.78.78-.78 2.05 0 2.83L4 21.41c.39.39.9.59 1.41.59.51 0 1.02-.2 1.41-.59l7.78-7.78 2.81-2.81c.8-.78.8-2.07 0-2.86zM5.41 20L4 18.59l7.72-7.72 1.47 1.35L5.41 20z\"/>\n",
              "  </svg>\n",
              "      </button>\n",
              "      \n",
              "  <style>\n",
              "    .colab-df-container {\n",
              "      display:flex;\n",
              "      flex-wrap:wrap;\n",
              "      gap: 12px;\n",
              "    }\n",
              "\n",
              "    .colab-df-convert {\n",
              "      background-color: #E8F0FE;\n",
              "      border: none;\n",
              "      border-radius: 50%;\n",
              "      cursor: pointer;\n",
              "      display: none;\n",
              "      fill: #1967D2;\n",
              "      height: 32px;\n",
              "      padding: 0 0 0 0;\n",
              "      width: 32px;\n",
              "    }\n",
              "\n",
              "    .colab-df-convert:hover {\n",
              "      background-color: #E2EBFA;\n",
              "      box-shadow: 0px 1px 2px rgba(60, 64, 67, 0.3), 0px 1px 3px 1px rgba(60, 64, 67, 0.15);\n",
              "      fill: #174EA6;\n",
              "    }\n",
              "\n",
              "    [theme=dark] .colab-df-convert {\n",
              "      background-color: #3B4455;\n",
              "      fill: #D2E3FC;\n",
              "    }\n",
              "\n",
              "    [theme=dark] .colab-df-convert:hover {\n",
              "      background-color: #434B5C;\n",
              "      box-shadow: 0px 1px 3px 1px rgba(0, 0, 0, 0.15);\n",
              "      filter: drop-shadow(0px 1px 2px rgba(0, 0, 0, 0.3));\n",
              "      fill: #FFFFFF;\n",
              "    }\n",
              "  </style>\n",
              "\n",
              "      <script>\n",
              "        const buttonEl =\n",
              "          document.querySelector('#df-87d3fbf5-4f9a-4d11-8b16-abf5449740a7 button.colab-df-convert');\n",
              "        buttonEl.style.display =\n",
              "          google.colab.kernel.accessAllowed ? 'block' : 'none';\n",
              "\n",
              "        async function convertToInteractive(key) {\n",
              "          const element = document.querySelector('#df-87d3fbf5-4f9a-4d11-8b16-abf5449740a7');\n",
              "          const dataTable =\n",
              "            await google.colab.kernel.invokeFunction('convertToInteractive',\n",
              "                                                     [key], {});\n",
              "          if (!dataTable) return;\n",
              "\n",
              "          const docLinkHtml = 'Like what you see? Visit the ' +\n",
              "            '<a target=\"_blank\" href=https://colab.research.google.com/notebooks/data_table.ipynb>data table notebook</a>'\n",
              "            + ' to learn more about interactive tables.';\n",
              "          element.innerHTML = '';\n",
              "          dataTable['output_type'] = 'display_data';\n",
              "          await google.colab.output.renderOutput(dataTable, element);\n",
              "          const docLink = document.createElement('div');\n",
              "          docLink.innerHTML = docLinkHtml;\n",
              "          element.appendChild(docLink);\n",
              "        }\n",
              "      </script>\n",
              "    </div>\n",
              "  </div>\n",
              "  "
            ]
          },
          "metadata": {},
          "execution_count": 100
        }
      ]
    },
    {
      "cell_type": "code",
      "source": [
        "dfs.FileName.value_counts()"
      ],
      "metadata": {
        "colab": {
          "base_uri": "https://localhost:8080/"
        },
        "id": "JWiilG-heEbk",
        "outputId": "e231d948-ecca-43ed-d80a-87c012696ae4"
      },
      "execution_count": 101,
      "outputs": [
        {
          "output_type": "execute_result",
          "data": {
            "text/plain": [
              "emorec_ctrlm2922_e    46922\n",
              "emorecF530_e          46205\n",
              "emorec_ctrlF3730_e    46158\n",
              "emorecm1820_e         45791\n",
              "emorec_ctrlm3920_e    45731\n",
              "                      ...  \n",
              "emorec_ctrlm3525_e    39862\n",
              "emorecm5922_e         39632\n",
              "emorec_ctrlm3225_e    39615\n",
              "emorecm1119_e         39549\n",
              "emorec_ctrlm6320_e    38434\n",
              "Name: FileName, Length: 80, dtype: int64"
            ]
          },
          "metadata": {},
          "execution_count": 101
        }
      ]
    },
    {
      "cell_type": "code",
      "source": [
        "#this line is for going into the google drive file where emorec_data.xlsx included\n",
        "%cd /content/drive/MyDrive/"
      ],
      "metadata": {
        "colab": {
          "base_uri": "https://localhost:8080/"
        },
        "id": "DAWztnmZxFTC",
        "outputId": "5d2cd692-5fb0-481a-d065-61bf51e56b45"
      },
      "execution_count": 88,
      "outputs": [
        {
          "output_type": "stream",
          "name": "stdout",
          "text": [
            "/content/drive/MyDrive\n"
          ]
        }
      ]
    },
    {
      "cell_type": "code",
      "source": [
        "#get the emorec_data.xlsx file\n",
        "path_to_emorec = os.getcwd()+\"/emorec_data.xlsx\"\n",
        "emorec_data = pd.read_excel(path_to_emorec)"
      ],
      "metadata": {
        "id": "vbtzQRS0xZah"
      },
      "execution_count": 89,
      "outputs": []
    },
    {
      "cell_type": "code",
      "source": [
        "%cd /content/"
      ],
      "metadata": {
        "colab": {
          "base_uri": "https://localhost:8080/"
        },
        "id": "80R5QpvcyJCY",
        "outputId": "e24e0b47-a134-4eb1-afc3-9ce545af9fcd"
      },
      "execution_count": 90,
      "outputs": [
        {
          "output_type": "stream",
          "name": "stdout",
          "text": [
            "/content\n"
          ]
        }
      ]
    },
    {
      "cell_type": "code",
      "source": [
        "emorec_data.to_pickle(\"emorec_data.pkl\")"
      ],
      "metadata": {
        "id": "WK3pLmehyE0k"
      },
      "execution_count": 91,
      "outputs": []
    },
    {
      "cell_type": "code",
      "source": [
        "emorec_data.head()"
      ],
      "metadata": {
        "colab": {
          "base_uri": "https://localhost:8080/",
          "height": 305
        },
        "id": "7_Zic918BvWm",
        "outputId": "ec21ae03-24c7-4f1a-d559-56f2ebbc680c"
      },
      "execution_count": 92,
      "outputs": [
        {
          "output_type": "execute_result",
          "data": {
            "text/plain": [
              "   subid  subage subgender condition  heartbeats (actual) mean  IAcc  \\\n",
              "0      1      28         F   control                      67.6  0.97   \n",
              "1      2      28         F      self                      75.6  0.75   \n",
              "2      3      25         F      self                      75.0  0.70   \n",
              "3      4      26         F      self                      84.3  0.91   \n",
              "4      5      30         F      self                      67.3  0.81   \n",
              "\n",
              "  IAcc HighvsLow  sadnessAcc  neutralAcc  happinessAcc  angerAcc  emorec total  \n",
              "0      High IAcc        0.85        0.57          0.50      0.50          2.42  \n",
              "1      High IAcc        0.50        0.60          0.45      0.50          2.05  \n",
              "2      High IAcc        1.00        0.87          0.37      0.00          2.24  \n",
              "3      High IAcc        0.55        0.22          0.42      0.14          1.33  \n",
              "4      High IAcc        0.60        0.42          0.37      0.42          1.81  "
            ],
            "text/html": [
              "\n",
              "  <div id=\"df-08349098-c655-4968-875d-4eb45f2ffa7e\">\n",
              "    <div class=\"colab-df-container\">\n",
              "      <div>\n",
              "<style scoped>\n",
              "    .dataframe tbody tr th:only-of-type {\n",
              "        vertical-align: middle;\n",
              "    }\n",
              "\n",
              "    .dataframe tbody tr th {\n",
              "        vertical-align: top;\n",
              "    }\n",
              "\n",
              "    .dataframe thead th {\n",
              "        text-align: right;\n",
              "    }\n",
              "</style>\n",
              "<table border=\"1\" class=\"dataframe\">\n",
              "  <thead>\n",
              "    <tr style=\"text-align: right;\">\n",
              "      <th></th>\n",
              "      <th>subid</th>\n",
              "      <th>subage</th>\n",
              "      <th>subgender</th>\n",
              "      <th>condition</th>\n",
              "      <th>heartbeats (actual) mean</th>\n",
              "      <th>IAcc</th>\n",
              "      <th>IAcc HighvsLow</th>\n",
              "      <th>sadnessAcc</th>\n",
              "      <th>neutralAcc</th>\n",
              "      <th>happinessAcc</th>\n",
              "      <th>angerAcc</th>\n",
              "      <th>emorec total</th>\n",
              "    </tr>\n",
              "  </thead>\n",
              "  <tbody>\n",
              "    <tr>\n",
              "      <th>0</th>\n",
              "      <td>1</td>\n",
              "      <td>28</td>\n",
              "      <td>F</td>\n",
              "      <td>control</td>\n",
              "      <td>67.6</td>\n",
              "      <td>0.97</td>\n",
              "      <td>High IAcc</td>\n",
              "      <td>0.85</td>\n",
              "      <td>0.57</td>\n",
              "      <td>0.50</td>\n",
              "      <td>0.50</td>\n",
              "      <td>2.42</td>\n",
              "    </tr>\n",
              "    <tr>\n",
              "      <th>1</th>\n",
              "      <td>2</td>\n",
              "      <td>28</td>\n",
              "      <td>F</td>\n",
              "      <td>self</td>\n",
              "      <td>75.6</td>\n",
              "      <td>0.75</td>\n",
              "      <td>High IAcc</td>\n",
              "      <td>0.50</td>\n",
              "      <td>0.60</td>\n",
              "      <td>0.45</td>\n",
              "      <td>0.50</td>\n",
              "      <td>2.05</td>\n",
              "    </tr>\n",
              "    <tr>\n",
              "      <th>2</th>\n",
              "      <td>3</td>\n",
              "      <td>25</td>\n",
              "      <td>F</td>\n",
              "      <td>self</td>\n",
              "      <td>75.0</td>\n",
              "      <td>0.70</td>\n",
              "      <td>High IAcc</td>\n",
              "      <td>1.00</td>\n",
              "      <td>0.87</td>\n",
              "      <td>0.37</td>\n",
              "      <td>0.00</td>\n",
              "      <td>2.24</td>\n",
              "    </tr>\n",
              "    <tr>\n",
              "      <th>3</th>\n",
              "      <td>4</td>\n",
              "      <td>26</td>\n",
              "      <td>F</td>\n",
              "      <td>self</td>\n",
              "      <td>84.3</td>\n",
              "      <td>0.91</td>\n",
              "      <td>High IAcc</td>\n",
              "      <td>0.55</td>\n",
              "      <td>0.22</td>\n",
              "      <td>0.42</td>\n",
              "      <td>0.14</td>\n",
              "      <td>1.33</td>\n",
              "    </tr>\n",
              "    <tr>\n",
              "      <th>4</th>\n",
              "      <td>5</td>\n",
              "      <td>30</td>\n",
              "      <td>F</td>\n",
              "      <td>self</td>\n",
              "      <td>67.3</td>\n",
              "      <td>0.81</td>\n",
              "      <td>High IAcc</td>\n",
              "      <td>0.60</td>\n",
              "      <td>0.42</td>\n",
              "      <td>0.37</td>\n",
              "      <td>0.42</td>\n",
              "      <td>1.81</td>\n",
              "    </tr>\n",
              "  </tbody>\n",
              "</table>\n",
              "</div>\n",
              "      <button class=\"colab-df-convert\" onclick=\"convertToInteractive('df-08349098-c655-4968-875d-4eb45f2ffa7e')\"\n",
              "              title=\"Convert this dataframe to an interactive table.\"\n",
              "              style=\"display:none;\">\n",
              "        \n",
              "  <svg xmlns=\"http://www.w3.org/2000/svg\" height=\"24px\"viewBox=\"0 0 24 24\"\n",
              "       width=\"24px\">\n",
              "    <path d=\"M0 0h24v24H0V0z\" fill=\"none\"/>\n",
              "    <path d=\"M18.56 5.44l.94 2.06.94-2.06 2.06-.94-2.06-.94-.94-2.06-.94 2.06-2.06.94zm-11 1L8.5 8.5l.94-2.06 2.06-.94-2.06-.94L8.5 2.5l-.94 2.06-2.06.94zm10 10l.94 2.06.94-2.06 2.06-.94-2.06-.94-.94-2.06-.94 2.06-2.06.94z\"/><path d=\"M17.41 7.96l-1.37-1.37c-.4-.4-.92-.59-1.43-.59-.52 0-1.04.2-1.43.59L10.3 9.45l-7.72 7.72c-.78.78-.78 2.05 0 2.83L4 21.41c.39.39.9.59 1.41.59.51 0 1.02-.2 1.41-.59l7.78-7.78 2.81-2.81c.8-.78.8-2.07 0-2.86zM5.41 20L4 18.59l7.72-7.72 1.47 1.35L5.41 20z\"/>\n",
              "  </svg>\n",
              "      </button>\n",
              "      \n",
              "  <style>\n",
              "    .colab-df-container {\n",
              "      display:flex;\n",
              "      flex-wrap:wrap;\n",
              "      gap: 12px;\n",
              "    }\n",
              "\n",
              "    .colab-df-convert {\n",
              "      background-color: #E8F0FE;\n",
              "      border: none;\n",
              "      border-radius: 50%;\n",
              "      cursor: pointer;\n",
              "      display: none;\n",
              "      fill: #1967D2;\n",
              "      height: 32px;\n",
              "      padding: 0 0 0 0;\n",
              "      width: 32px;\n",
              "    }\n",
              "\n",
              "    .colab-df-convert:hover {\n",
              "      background-color: #E2EBFA;\n",
              "      box-shadow: 0px 1px 2px rgba(60, 64, 67, 0.3), 0px 1px 3px 1px rgba(60, 64, 67, 0.15);\n",
              "      fill: #174EA6;\n",
              "    }\n",
              "\n",
              "    [theme=dark] .colab-df-convert {\n",
              "      background-color: #3B4455;\n",
              "      fill: #D2E3FC;\n",
              "    }\n",
              "\n",
              "    [theme=dark] .colab-df-convert:hover {\n",
              "      background-color: #434B5C;\n",
              "      box-shadow: 0px 1px 3px 1px rgba(0, 0, 0, 0.15);\n",
              "      filter: drop-shadow(0px 1px 2px rgba(0, 0, 0, 0.3));\n",
              "      fill: #FFFFFF;\n",
              "    }\n",
              "  </style>\n",
              "\n",
              "      <script>\n",
              "        const buttonEl =\n",
              "          document.querySelector('#df-08349098-c655-4968-875d-4eb45f2ffa7e button.colab-df-convert');\n",
              "        buttonEl.style.display =\n",
              "          google.colab.kernel.accessAllowed ? 'block' : 'none';\n",
              "\n",
              "        async function convertToInteractive(key) {\n",
              "          const element = document.querySelector('#df-08349098-c655-4968-875d-4eb45f2ffa7e');\n",
              "          const dataTable =\n",
              "            await google.colab.kernel.invokeFunction('convertToInteractive',\n",
              "                                                     [key], {});\n",
              "          if (!dataTable) return;\n",
              "\n",
              "          const docLinkHtml = 'Like what you see? Visit the ' +\n",
              "            '<a target=\"_blank\" href=https://colab.research.google.com/notebooks/data_table.ipynb>data table notebook</a>'\n",
              "            + ' to learn more about interactive tables.';\n",
              "          element.innerHTML = '';\n",
              "          dataTable['output_type'] = 'display_data';\n",
              "          await google.colab.output.renderOutput(dataTable, element);\n",
              "          const docLink = document.createElement('div');\n",
              "          docLink.innerHTML = docLinkHtml;\n",
              "          element.appendChild(docLink);\n",
              "        }\n",
              "      </script>\n",
              "    </div>\n",
              "  </div>\n",
              "  "
            ]
          },
          "metadata": {},
          "execution_count": 92
        }
      ]
    },
    {
      "cell_type": "code",
      "source": [
        "#pip install bz2file"
      ],
      "metadata": {
        "id": "j1BurGqn7N_X"
      },
      "execution_count": 93,
      "outputs": []
    },
    {
      "cell_type": "code",
      "source": [
        "import bz2file as bz2\n",
        "import pickle"
      ],
      "metadata": {
        "id": "u_XH3Tzw7RjD"
      },
      "execution_count": 94,
      "outputs": []
    },
    {
      "cell_type": "code",
      "source": [
        "def compressed_pickle(title, data):\n",
        "  with bz2.BZ2File(title + '.pbz2', 'w') as f:\n",
        "    pickle.dump(data, f)"
      ],
      "metadata": {
        "id": "it_IxCXN7UQL"
      },
      "execution_count": 95,
      "outputs": []
    },
    {
      "cell_type": "code",
      "source": [
        "compressed_pickle('participants_compressed', dfs)"
      ],
      "metadata": {
        "id": "LfufyQYf7er7"
      },
      "execution_count": 96,
      "outputs": []
    },
    {
      "cell_type": "code",
      "source": [
        "\"\"\"\n",
        "To decompress and load the model we need to use the below method.\n",
        "def decompress_pickle(file):\n",
        "  data = bz2.BZ2File(file, 'rb')\n",
        "  data = pickle.load(data)\n",
        "  return data\n",
        "  \"\"\""
      ],
      "metadata": {
        "id": "yF423uMR7v_7",
        "colab": {
          "base_uri": "https://localhost:8080/",
          "height": 53
        },
        "outputId": "0b52f085-bcf4-46fa-ca36-5769ac5a43d2"
      },
      "execution_count": 97,
      "outputs": [
        {
          "output_type": "execute_result",
          "data": {
            "text/plain": [
              "\"\\nTo decompress and load the model we need to use the below method.\\ndef decompress_pickle(file):\\n  data = bz2.BZ2File(file, 'rb')\\n  data = pickle.load(data)\\n  return data\\n  \""
            ],
            "application/vnd.google.colaboratory.intrinsic+json": {
              "type": "string"
            }
          },
          "metadata": {},
          "execution_count": 97
        }
      ]
    },
    {
      "cell_type": "code",
      "source": [
        "#download files\n",
        "from google.colab import files \n",
        "files.download(\"emorec_data.pkl\")\n",
        "files.download(\"participants_compressed.pbz2\")"
      ],
      "metadata": {
        "colab": {
          "base_uri": "https://localhost:8080/",
          "height": 17
        },
        "id": "Z8rg85ioQEGz",
        "outputId": "669b1506-d72e-408e-8cf7-9d27007ad8d6"
      },
      "execution_count": 99,
      "outputs": [
        {
          "output_type": "display_data",
          "data": {
            "text/plain": [
              "<IPython.core.display.Javascript object>"
            ],
            "application/javascript": [
              "\n",
              "    async function download(id, filename, size) {\n",
              "      if (!google.colab.kernel.accessAllowed) {\n",
              "        return;\n",
              "      }\n",
              "      const div = document.createElement('div');\n",
              "      const label = document.createElement('label');\n",
              "      label.textContent = `Downloading \"${filename}\": `;\n",
              "      div.appendChild(label);\n",
              "      const progress = document.createElement('progress');\n",
              "      progress.max = size;\n",
              "      div.appendChild(progress);\n",
              "      document.body.appendChild(div);\n",
              "\n",
              "      const buffers = [];\n",
              "      let downloaded = 0;\n",
              "\n",
              "      const channel = await google.colab.kernel.comms.open(id);\n",
              "      // Send a message to notify the kernel that we're ready.\n",
              "      channel.send({})\n",
              "\n",
              "      for await (const message of channel.messages) {\n",
              "        // Send a message to notify the kernel that we're ready.\n",
              "        channel.send({})\n",
              "        if (message.buffers) {\n",
              "          for (const buffer of message.buffers) {\n",
              "            buffers.push(buffer);\n",
              "            downloaded += buffer.byteLength;\n",
              "            progress.value = downloaded;\n",
              "          }\n",
              "        }\n",
              "      }\n",
              "      const blob = new Blob(buffers, {type: 'application/binary'});\n",
              "      const a = document.createElement('a');\n",
              "      a.href = window.URL.createObjectURL(blob);\n",
              "      a.download = filename;\n",
              "      div.appendChild(a);\n",
              "      a.click();\n",
              "      div.remove();\n",
              "    }\n",
              "  "
            ]
          },
          "metadata": {}
        },
        {
          "output_type": "display_data",
          "data": {
            "text/plain": [
              "<IPython.core.display.Javascript object>"
            ],
            "application/javascript": [
              "download(\"download_d87a2524-e476-4b4d-8830-f51982148657\", \"emorec_data.pkl\", 7357)"
            ]
          },
          "metadata": {}
        },
        {
          "output_type": "display_data",
          "data": {
            "text/plain": [
              "<IPython.core.display.Javascript object>"
            ],
            "application/javascript": [
              "\n",
              "    async function download(id, filename, size) {\n",
              "      if (!google.colab.kernel.accessAllowed) {\n",
              "        return;\n",
              "      }\n",
              "      const div = document.createElement('div');\n",
              "      const label = document.createElement('label');\n",
              "      label.textContent = `Downloading \"${filename}\": `;\n",
              "      div.appendChild(label);\n",
              "      const progress = document.createElement('progress');\n",
              "      progress.max = size;\n",
              "      div.appendChild(progress);\n",
              "      document.body.appendChild(div);\n",
              "\n",
              "      const buffers = [];\n",
              "      let downloaded = 0;\n",
              "\n",
              "      const channel = await google.colab.kernel.comms.open(id);\n",
              "      // Send a message to notify the kernel that we're ready.\n",
              "      channel.send({})\n",
              "\n",
              "      for await (const message of channel.messages) {\n",
              "        // Send a message to notify the kernel that we're ready.\n",
              "        channel.send({})\n",
              "        if (message.buffers) {\n",
              "          for (const buffer of message.buffers) {\n",
              "            buffers.push(buffer);\n",
              "            downloaded += buffer.byteLength;\n",
              "            progress.value = downloaded;\n",
              "          }\n",
              "        }\n",
              "      }\n",
              "      const blob = new Blob(buffers, {type: 'application/binary'});\n",
              "      const a = document.createElement('a');\n",
              "      a.href = window.URL.createObjectURL(blob);\n",
              "      a.download = filename;\n",
              "      div.appendChild(a);\n",
              "      a.click();\n",
              "      div.remove();\n",
              "    }\n",
              "  "
            ]
          },
          "metadata": {}
        },
        {
          "output_type": "display_data",
          "data": {
            "text/plain": [
              "<IPython.core.display.Javascript object>"
            ],
            "application/javascript": [
              "download(\"download_26c727bb-9d0e-41c2-a1f3-8e7eee77ed1f\", \"participants_compressed.pbz2\", 37821470)"
            ]
          },
          "metadata": {}
        }
      ]
    },
    {
      "cell_type": "markdown",
      "source": [
        "https://srivastavprojyot.medium.com/compress-large-ml-pickle-files-for-deployment-6f6afe315380"
      ],
      "metadata": {
        "id": "nzFVjVnu9oV0"
      }
    }
  ]
}