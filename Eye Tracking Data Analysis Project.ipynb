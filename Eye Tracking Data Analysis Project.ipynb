{
 "cells": [
  {
   "cell_type": "markdown",
   "metadata": {},
   "source": [
    "# Eye Tracking Data Analysis Project"
   ]
  },
  {
   "cell_type": "markdown",
   "metadata": {},
   "source": [
    "This project is prepared for BDA 502 - Introduction to Machine Learning Course"
   ]
  },
  {
   "cell_type": "markdown",
   "metadata": {},
   "source": [
    "Group Members:\n",
    "\n",
    "    * YUDUM PAÇİN\n",
    "    * YIĞIT ONAY \n",
    "    * EGEMEN ONAT ATAM \n",
    "    * HACI BAYRAM SAYGILI \n",
    "    * ARDA"
   ]
  },
  {
   "cell_type": "markdown",
   "metadata": {},
   "source": [
    "## Table of Contents:\n",
    "* [Data](#first-bullet)\n",
    "* [Data Preprocess](#second-bullet)\n",
    "* [Statistical Analysis](#second-bullet)\n",
    "* [Machine Learning](#second-bullet)"
   ]
  },
  {
   "cell_type": "markdown",
   "metadata": {},
   "source": [
    "Eye Tracking Data source, given [link](https://drive.google.com/drive/folders/1-IONyJb2HClD2KfeJtVgrsV4IMwJsd26?usp=share_link) is in csv formatted 80 files with approximately 50000 rows for each, consisting of participants of Eye Tracking Experiment.\n",
    "\n",
    "[Eye_Tracking_Data.ipynb](http://localhost:8888/notebooks/Documents/GitHub/eye_tracking_data_project/eye_tracking_data_project/Eye_Tracking_Data.ipynb) file consists of codes we used for downloading these csv files, converting them to Pandas dataframes and saving it as pickles. \n",
    "\n",
    "In this file, data preprocess steps below are applied before saving the file.\n",
    "\n",
    "\n",
    "* TIME, FPOGX, FPOGY, FPOGS, FPOGD, FPOGID, FPOGV, LPUPILD, LPUPILV, RPUPILD, RPUPILV, USER columns kept\n",
    "* Any values that do not contain STIMULI_ONSET string under the USER column were deleted.\n",
    "\n",
    "\n",
    "In these part of the analysis, we continue to data analysis of eye tracking data step by step"
   ]
  },
  {
   "cell_type": "code",
   "execution_count": 2,
   "metadata": {},
   "outputs": [],
   "source": [
    "#import necessary libraries\n",
    "import pickle\n",
    "import bz2\n",
    "import gzip\n",
    "import lzma\n",
    "import pickle\n",
    "import numpy as np\n",
    "import pandas as pd\n",
    "import math\n",
    "import seaborn as sns\n",
    "pd.set_option('display.float_format', lambda x: '%.3f' % x)\n",
    "import matplotlib.pyplot as plt\n",
    "from scipy.signal import butter, lfilter"
   ]
  },
  {
   "cell_type": "markdown",
   "metadata": {},
   "source": [
    "### emrec_data: summary of participant informations"
   ]
  },
  {
   "cell_type": "code",
   "execution_count": 3,
   "metadata": {},
   "outputs": [],
   "source": [
    "#load the summary participant data\n",
    "with open('emorec_data.pkl', 'rb') as f:\n",
    "    data = pickle.load(f)"
   ]
  },
  {
   "cell_type": "code",
   "execution_count": 4,
   "metadata": {},
   "outputs": [
    {
     "data": {
      "text/html": [
       "<div>\n",
       "<style scoped>\n",
       "    .dataframe tbody tr th:only-of-type {\n",
       "        vertical-align: middle;\n",
       "    }\n",
       "\n",
       "    .dataframe tbody tr th {\n",
       "        vertical-align: top;\n",
       "    }\n",
       "\n",
       "    .dataframe thead th {\n",
       "        text-align: right;\n",
       "    }\n",
       "</style>\n",
       "<table border=\"1\" class=\"dataframe\">\n",
       "  <thead>\n",
       "    <tr style=\"text-align: right;\">\n",
       "      <th></th>\n",
       "      <th>subid</th>\n",
       "      <th>subage</th>\n",
       "      <th>subgender</th>\n",
       "      <th>condition</th>\n",
       "      <th>heartbeats (actual) mean</th>\n",
       "      <th>IAcc</th>\n",
       "      <th>IAcc HighvsLow</th>\n",
       "      <th>sadnessAcc</th>\n",
       "      <th>neutralAcc</th>\n",
       "      <th>happinessAcc</th>\n",
       "      <th>angerAcc</th>\n",
       "      <th>emorec total</th>\n",
       "    </tr>\n",
       "  </thead>\n",
       "  <tbody>\n",
       "    <tr>\n",
       "      <th>0</th>\n",
       "      <td>1</td>\n",
       "      <td>28</td>\n",
       "      <td>F</td>\n",
       "      <td>control</td>\n",
       "      <td>67.600</td>\n",
       "      <td>0.970</td>\n",
       "      <td>High IAcc</td>\n",
       "      <td>0.850</td>\n",
       "      <td>0.570</td>\n",
       "      <td>0.500</td>\n",
       "      <td>0.500</td>\n",
       "      <td>2.420</td>\n",
       "    </tr>\n",
       "    <tr>\n",
       "      <th>1</th>\n",
       "      <td>2</td>\n",
       "      <td>28</td>\n",
       "      <td>F</td>\n",
       "      <td>self</td>\n",
       "      <td>75.600</td>\n",
       "      <td>0.750</td>\n",
       "      <td>High IAcc</td>\n",
       "      <td>0.500</td>\n",
       "      <td>0.600</td>\n",
       "      <td>0.450</td>\n",
       "      <td>0.500</td>\n",
       "      <td>2.050</td>\n",
       "    </tr>\n",
       "    <tr>\n",
       "      <th>2</th>\n",
       "      <td>3</td>\n",
       "      <td>25</td>\n",
       "      <td>F</td>\n",
       "      <td>self</td>\n",
       "      <td>75.000</td>\n",
       "      <td>0.700</td>\n",
       "      <td>High IAcc</td>\n",
       "      <td>1.000</td>\n",
       "      <td>0.870</td>\n",
       "      <td>0.370</td>\n",
       "      <td>0.000</td>\n",
       "      <td>2.240</td>\n",
       "    </tr>\n",
       "    <tr>\n",
       "      <th>3</th>\n",
       "      <td>4</td>\n",
       "      <td>26</td>\n",
       "      <td>F</td>\n",
       "      <td>self</td>\n",
       "      <td>84.300</td>\n",
       "      <td>0.910</td>\n",
       "      <td>High IAcc</td>\n",
       "      <td>0.550</td>\n",
       "      <td>0.220</td>\n",
       "      <td>0.420</td>\n",
       "      <td>0.140</td>\n",
       "      <td>1.330</td>\n",
       "    </tr>\n",
       "    <tr>\n",
       "      <th>4</th>\n",
       "      <td>5</td>\n",
       "      <td>30</td>\n",
       "      <td>F</td>\n",
       "      <td>self</td>\n",
       "      <td>67.300</td>\n",
       "      <td>0.810</td>\n",
       "      <td>High IAcc</td>\n",
       "      <td>0.600</td>\n",
       "      <td>0.420</td>\n",
       "      <td>0.370</td>\n",
       "      <td>0.420</td>\n",
       "      <td>1.810</td>\n",
       "    </tr>\n",
       "  </tbody>\n",
       "</table>\n",
       "</div>"
      ],
      "text/plain": [
       "   subid  subage subgender condition  heartbeats (actual) mean  IAcc  \\\n",
       "0      1      28         F   control                    67.600 0.970   \n",
       "1      2      28         F      self                    75.600 0.750   \n",
       "2      3      25         F      self                    75.000 0.700   \n",
       "3      4      26         F      self                    84.300 0.910   \n",
       "4      5      30         F      self                    67.300 0.810   \n",
       "\n",
       "  IAcc HighvsLow  sadnessAcc  neutralAcc  happinessAcc  angerAcc  emorec total  \n",
       "0      High IAcc       0.850       0.570         0.500     0.500         2.420  \n",
       "1      High IAcc       0.500       0.600         0.450     0.500         2.050  \n",
       "2      High IAcc       1.000       0.870         0.370     0.000         2.240  \n",
       "3      High IAcc       0.550       0.220         0.420     0.140         1.330  \n",
       "4      High IAcc       0.600       0.420         0.370     0.420         1.810  "
      ]
     },
     "execution_count": 4,
     "metadata": {},
     "output_type": "execute_result"
    }
   ],
   "source": [
    "data.head()"
   ]
  },
  {
   "cell_type": "code",
   "execution_count": 5,
   "metadata": {},
   "outputs": [
    {
     "data": {
      "text/plain": [
       "(80, 12)"
      ]
     },
     "execution_count": 5,
     "metadata": {},
     "output_type": "execute_result"
    }
   ],
   "source": [
    "data.shape"
   ]
  },
  {
   "cell_type": "markdown",
   "metadata": {},
   "source": [
    "### participants data: eye tracking experiments data of all participants"
   ]
  },
  {
   "cell_type": "code",
   "execution_count": 6,
   "metadata": {},
   "outputs": [],
   "source": [
    "# open participants_compressed.pbz2\n",
    "with bz2.open('participants_compressed.pbz2', 'rb') as f:\n",
    "    participants = pickle.load(f)"
   ]
  },
  {
   "cell_type": "code",
   "execution_count": 7,
   "metadata": {},
   "outputs": [
    {
     "data": {
      "text/html": [
       "<div>\n",
       "<style scoped>\n",
       "    .dataframe tbody tr th:only-of-type {\n",
       "        vertical-align: middle;\n",
       "    }\n",
       "\n",
       "    .dataframe tbody tr th {\n",
       "        vertical-align: top;\n",
       "    }\n",
       "\n",
       "    .dataframe thead th {\n",
       "        text-align: right;\n",
       "    }\n",
       "</style>\n",
       "<table border=\"1\" class=\"dataframe\">\n",
       "  <thead>\n",
       "    <tr style=\"text-align: right;\">\n",
       "      <th></th>\n",
       "      <th>TIME</th>\n",
       "      <th>FPOGX</th>\n",
       "      <th>FPOGY</th>\n",
       "      <th>FPOGS</th>\n",
       "      <th>FPOGD</th>\n",
       "      <th>FPOGID</th>\n",
       "      <th>FPOGV</th>\n",
       "      <th>LPUPILD</th>\n",
       "      <th>LPUPILV</th>\n",
       "      <th>RPUPILD</th>\n",
       "      <th>RPUPILV</th>\n",
       "      <th>USER</th>\n",
       "      <th>FileName</th>\n",
       "    </tr>\n",
       "  </thead>\n",
       "  <tbody>\n",
       "    <tr>\n",
       "      <th>2883</th>\n",
       "      <td>148.152</td>\n",
       "      <td>0.498</td>\n",
       "      <td>0.464</td>\n",
       "      <td>147.791</td>\n",
       "      <td>0.361</td>\n",
       "      <td>257.000</td>\n",
       "      <td>1.000</td>\n",
       "      <td>0.006</td>\n",
       "      <td>1.000</td>\n",
       "      <td>0.006</td>\n",
       "      <td>1.000</td>\n",
       "      <td>STIMULI_ONSET1</td>\n",
       "      <td>emorecm4623_e</td>\n",
       "    </tr>\n",
       "    <tr>\n",
       "      <th>2884</th>\n",
       "      <td>148.170</td>\n",
       "      <td>0.498</td>\n",
       "      <td>0.461</td>\n",
       "      <td>147.791</td>\n",
       "      <td>0.379</td>\n",
       "      <td>257.000</td>\n",
       "      <td>1.000</td>\n",
       "      <td>0.006</td>\n",
       "      <td>1.000</td>\n",
       "      <td>0.006</td>\n",
       "      <td>1.000</td>\n",
       "      <td>STIMULI_ONSET1</td>\n",
       "      <td>emorecm4623_e</td>\n",
       "    </tr>\n",
       "    <tr>\n",
       "      <th>2885</th>\n",
       "      <td>148.186</td>\n",
       "      <td>0.498</td>\n",
       "      <td>0.459</td>\n",
       "      <td>147.791</td>\n",
       "      <td>0.395</td>\n",
       "      <td>257.000</td>\n",
       "      <td>1.000</td>\n",
       "      <td>0.006</td>\n",
       "      <td>1.000</td>\n",
       "      <td>0.006</td>\n",
       "      <td>1.000</td>\n",
       "      <td>STIMULI_ONSET1</td>\n",
       "      <td>emorecm4623_e</td>\n",
       "    </tr>\n",
       "    <tr>\n",
       "      <th>2886</th>\n",
       "      <td>148.202</td>\n",
       "      <td>0.498</td>\n",
       "      <td>0.457</td>\n",
       "      <td>147.791</td>\n",
       "      <td>0.412</td>\n",
       "      <td>257.000</td>\n",
       "      <td>1.000</td>\n",
       "      <td>0.006</td>\n",
       "      <td>1.000</td>\n",
       "      <td>0.006</td>\n",
       "      <td>1.000</td>\n",
       "      <td>STIMULI_ONSET1</td>\n",
       "      <td>emorecm4623_e</td>\n",
       "    </tr>\n",
       "    <tr>\n",
       "      <th>2887</th>\n",
       "      <td>148.221</td>\n",
       "      <td>0.498</td>\n",
       "      <td>0.456</td>\n",
       "      <td>147.791</td>\n",
       "      <td>0.430</td>\n",
       "      <td>257.000</td>\n",
       "      <td>1.000</td>\n",
       "      <td>0.006</td>\n",
       "      <td>1.000</td>\n",
       "      <td>0.006</td>\n",
       "      <td>1.000</td>\n",
       "      <td>STIMULI_ONSET1</td>\n",
       "      <td>emorecm4623_e</td>\n",
       "    </tr>\n",
       "  </tbody>\n",
       "</table>\n",
       "</div>"
      ],
      "text/plain": [
       "        TIME FPOGX  FPOGY   FPOGS  FPOGD  FPOGID  FPOGV  LPUPILD  LPUPILV  \\\n",
       "2883 148.152 0.498  0.464 147.791  0.361 257.000  1.000    0.006    1.000   \n",
       "2884 148.170 0.498  0.461 147.791  0.379 257.000  1.000    0.006    1.000   \n",
       "2885 148.186 0.498  0.459 147.791  0.395 257.000  1.000    0.006    1.000   \n",
       "2886 148.202 0.498  0.457 147.791  0.412 257.000  1.000    0.006    1.000   \n",
       "2887 148.221 0.498  0.456 147.791  0.430 257.000  1.000    0.006    1.000   \n",
       "\n",
       "      RPUPILD  RPUPILV            USER       FileName  \n",
       "2883    0.006    1.000  STIMULI_ONSET1  emorecm4623_e  \n",
       "2884    0.006    1.000  STIMULI_ONSET1  emorecm4623_e  \n",
       "2885    0.006    1.000  STIMULI_ONSET1  emorecm4623_e  \n",
       "2886    0.006    1.000  STIMULI_ONSET1  emorecm4623_e  \n",
       "2887    0.006    1.000  STIMULI_ONSET1  emorecm4623_e  "
      ]
     },
     "execution_count": 7,
     "metadata": {},
     "output_type": "execute_result"
    }
   ],
   "source": [
    "participants.head()"
   ]
  },
  {
   "cell_type": "code",
   "execution_count": 8,
   "metadata": {},
   "outputs": [
    {
     "data": {
      "text/plain": [
       "(3409501, 13)"
      ]
     },
     "execution_count": 8,
     "metadata": {},
     "output_type": "execute_result"
    }
   ],
   "source": [
    "participants.shape"
   ]
  },
  {
   "cell_type": "markdown",
   "metadata": {},
   "source": [
    "### sample data"
   ]
  },
  {
   "cell_type": "code",
   "execution_count": null,
   "metadata": {},
   "outputs": [],
   "source": [
    "sample_data = pd.read_excel(\"Sample Analyses_507.xlsx\")"
   ]
  },
  {
   "cell_type": "code",
   "execution_count": null,
   "metadata": {},
   "outputs": [],
   "source": [
    "sample_data.head()"
   ]
  },
  {
   "cell_type": "markdown",
   "metadata": {},
   "source": [
    "## Preprocess the Data"
   ]
  },
  {
   "cell_type": "code",
   "execution_count": null,
   "metadata": {},
   "outputs": [],
   "source": [
    "# Validating if ratio of valid data is above 70% - possible exclusion of users.\n",
    "data_1 = pd.pivot_table(participants, values=[\"FPOGV\"], index=[\"USER\",\"FileName\"], aggfunc=[np.sum, \"count\"])\n",
    "data_1[\"ratio\"] = data_1[\"sum\"] / data_1[\"count\"]\n",
    "data_1"
   ]
  },
  {
   "cell_type": "code",
   "execution_count": 43,
   "metadata": {},
   "outputs": [
    {
     "data": {
      "text/html": [
       "<div>\n",
       "<style scoped>\n",
       "    .dataframe tbody tr th:only-of-type {\n",
       "        vertical-align: middle;\n",
       "    }\n",
       "\n",
       "    .dataframe tbody tr th {\n",
       "        vertical-align: top;\n",
       "    }\n",
       "\n",
       "    .dataframe thead tr th {\n",
       "        text-align: left;\n",
       "    }\n",
       "\n",
       "    .dataframe thead tr:last-of-type th {\n",
       "        text-align: right;\n",
       "    }\n",
       "</style>\n",
       "<table border=\"1\" class=\"dataframe\">\n",
       "  <thead>\n",
       "    <tr>\n",
       "      <th></th>\n",
       "      <th>sum</th>\n",
       "      <th>count</th>\n",
       "      <th>ratio</th>\n",
       "    </tr>\n",
       "    <tr>\n",
       "      <th></th>\n",
       "      <th>FPOGV</th>\n",
       "      <th>FPOGV</th>\n",
       "      <th></th>\n",
       "    </tr>\n",
       "    <tr>\n",
       "      <th>USER</th>\n",
       "      <th></th>\n",
       "      <th></th>\n",
       "      <th></th>\n",
       "    </tr>\n",
       "  </thead>\n",
       "  <tbody>\n",
       "  </tbody>\n",
       "</table>\n",
       "</div>"
      ],
      "text/plain": [
       "Empty DataFrame\n",
       "Columns: [(sum, FPOGV), (count, FPOGV), (ratio, )]\n",
       "Index: []"
      ]
     },
     "execution_count": 43,
     "metadata": {},
     "output_type": "execute_result"
    }
   ],
   "source": [
    "# ratio of valid data, flagged as FPOGV=1, is grater than 70%, there is no USER to remove\n",
    "data_1[data_1.ratio<0.7]"
   ]
  },
  {
   "cell_type": "code",
   "execution_count": 11,
   "metadata": {},
   "outputs": [],
   "source": [
    "# Filtering with respect to non-null values of FPOGV, LPUPILV and RPUPILV\n",
    "\n",
    "data_filtered = participants.loc[(participants[\"FPOGV\"] == 1) & (participants[\"LPUPILV\"] == 1) & (participants[\"RPUPILV\"] == 1),:]"
   ]
  },
  {
   "cell_type": "code",
   "execution_count": 12,
   "metadata": {},
   "outputs": [],
   "source": [
    "#get the final preprocessed data\n",
    "df_prep = data_filtered.copy()"
   ]
  },
  {
   "cell_type": "markdown",
   "metadata": {},
   "source": [
    "## The Butterworth low-pass filter"
   ]
  },
  {
   "cell_type": "code",
   "execution_count": 13,
   "metadata": {},
   "outputs": [],
   "source": [
    "##############################################################\n",
    "#                                                            #\n",
    "#    Mark Hoogendoorn and Burkhardt Funk (2017)              #\n",
    "#    Machine Learning for the Quantified Self                #\n",
    "#    Springer                                                #\n",
    "#    Chapter 3                                               #\n",
    "#                                                            #\n",
    "##############################################################\n",
    "\n",
    "from sklearn.decomposition import PCA\n",
    "\n",
    "from scipy.signal import butter, lfilter, filtfilt\n",
    "\n",
    "def low_pass_filter(data_table, col, sampling_frequency, cutoff_frequency, order=5, phase_shift=True):\n",
    "    # http://stackoverflow.com/questions/12093594/how-to-implement-band-pass-butterworth-filter-with-scipy-signal-butter\n",
    "    # Cutoff frequencies are expressed as the fraction of the Nyquist frequency, which is half the sampling frequency\n",
    "    nyq = 0.5 * sampling_frequency\n",
    "    cut = cutoff_frequency / nyq\n",
    "\n",
    "    b, a = butter(order, cut, btype='low', output='ba', analog=False)\n",
    "    if phase_shift:\n",
    "        data_table[col + '_lowpass'] = filtfilt(b, a, data_table[col])\n",
    "    else:\n",
    "        data_table[col + '_lowpass'] = lfilter(b, a, data_table[col])\n",
    "    return data_table"
   ]
  },
  {
   "cell_type": "code",
   "execution_count": 14,
   "metadata": {},
   "outputs": [],
   "source": [
    "df_prep[\"max_pupild\"] = df_prep[[\"LPUPILD\", \"RPUPILD\"]].max(axis=1)\n",
    "fs = 1000/200\n",
    "cutoff = 1\n",
    "df_low_pass_final = low_pass_filter(df_prep.groupby(\"USER\").mean(),\"max_pupild\", fs, cutoff)[[\"max_pupild\", \"max_pupild_lowpass\"]]"
   ]
  },
  {
   "cell_type": "markdown",
   "metadata": {},
   "source": [
    "## Calculate z-scores"
   ]
  },
  {
   "cell_type": "code",
   "execution_count": 15,
   "metadata": {},
   "outputs": [
    {
     "data": {
      "text/plain": [
       "<AxesSubplot:xlabel='USER'>"
      ]
     },
     "execution_count": 15,
     "metadata": {},
     "output_type": "execute_result"
    },
    {
     "data": {
      "image/png": "[encoded data removed]",
      "text/plain": [
       "<Figure size 432x288 with 1 Axes>"
      ]
     },
     "metadata": {
      "needs_background": "light"
     },
     "output_type": "display_data"
    }
   ],
   "source": [
    "df_low_pass_final[\"z_score\"] = (df_low_pass_final[\"max_pupild\"] - np.mean(df_low_pass_final[\"max_pupild\"])) / np.std(df_low_pass_final[\"max_pupild\"])\n",
    "df_low_pass_final[[\"max_pupild\", \"max_pupild_lowpass\"]].plot()"
   ]
  },
  {
   "cell_type": "code",
   "execution_count": 16,
   "metadata": {},
   "outputs": [
    {
     "data": {
      "text/plain": [
       "<AxesSubplot:xlabel='USER'>"
      ]
     },
     "execution_count": 16,
     "metadata": {},
     "output_type": "execute_result"
    },
    {
     "data": {
      "image/png": "[encoded data removed]",
      "text/plain": [
       "<Figure size 432x288 with 1 Axes>"
      ]
     },
     "metadata": {
      "needs_background": "light"
     },
     "output_type": "display_data"
    }
   ],
   "source": [
    "df_low_pass_final[\"z_score\"].plot()\n"
   ]
  },
  {
   "cell_type": "markdown",
   "metadata": {},
   "source": [
    "## Calculate And Add Fixation Count and Fixation Duration"
   ]
  },
  {
   "cell_type": "code",
   "execution_count": 60,
   "metadata": {},
   "outputs": [],
   "source": [
    "def calculate_fixation_count(df):\n",
    "    data = df.copy()\n",
    "\n",
    "    # Specify fixation radius and minimum duration\n",
    "    fixation_radius = 58\n",
    "    min_duration = 0.12\n",
    "    results = []\n",
    "\n",
    "    # Get unique trial names\n",
    "    trials = data['USER'].unique()\n",
    "    participants = data[\"FileName\"].unique()\n",
    "\n",
    "    # Loop through trials and calculate fixation count and duration\n",
    "    for participant in participants:\n",
    "        for trial in trials:\n",
    "            result = {}\n",
    "            trial_data = data[data['USER'] == trial]\n",
    "            fixation_count = 0\n",
    "            fixation_duration = 0\n",
    "            last_fixation_end_time = float('nan')\n",
    "            last_x = last_y = 0\n",
    "\n",
    "            for index, row in trial_data.iterrows():\n",
    "                x = row['FPOGX'] * 1920  # Convert fraction of screen to pixels\n",
    "                y = row['FPOGY'] * 1080  # Convert fraction of screen to pixels\n",
    "\n",
    "                if math.isnan(last_fixation_end_time):\n",
    "                    # First sample in trial\n",
    "                    fixation_start_time = row['FPOGS']\n",
    "                    last_fixation_end_time = fixation_start_time\n",
    "                elif math.sqrt((x - last_x) ** 2 + (y - last_y) ** 2) <= fixation_radius and \\\n",
    "                        row['FPOGS'] - last_fixation_end_time <= min_duration:\n",
    "                    # Continuing fixation\n",
    "                    pass\n",
    "                elif math.sqrt((x - last_x) ** 2 + (y - last_y) ** 2) <= fixation_radius and \\\n",
    "                        row['FPOGS'] - last_fixation_end_time > min_duration:\n",
    "                    # Extended fixation\n",
    "                    fixation_duration += row['FPOGS'] - last_fixation_end_time\n",
    "                    last_fixation_end_time = row['FPOGS'] + row['FPOGD']\n",
    "                elif math.sqrt((x - last_x) ** 2 + (y - last_y) ** 2) > fixation_radius:\n",
    "                    # New fixation\n",
    "                    fixation_count += 1\n",
    "                    fixation_duration += row['FPOGD']\n",
    "                    fixation_start_time = row['FPOGS']\n",
    "                    last_fixation_end_time = row['FPOGS'] + row['FPOGD']\n",
    "\n",
    "                last_x = x\n",
    "                last_y = y\n",
    "\n",
    "            # Print results for trial\n",
    "            #print(f\"Trial: {trial}, Fixation Count: {fixation_count}, Fixation Duration: {fixation_duration:.2f} seconds\")\n",
    "            result[\"trial\"] = trial\n",
    "            result[\"FileName\"] = participant\n",
    "            result[\"fixation_count\"] = fixation_count\n",
    "            result[\"fixation_duration\"] = fixation_duration\n",
    "            results.append(result)\n",
    "        \n",
    "    \n",
    "    return results"
   ]
  },
  {
   "cell_type": "code",
   "execution_count": null,
   "metadata": {},
   "outputs": [],
   "source": [
    "results = calculate_fixation_count(df_prep)"
   ]
  },
  {
   "cell_type": "code",
   "execution_count": 19,
   "metadata": {},
   "outputs": [],
   "source": [
    "results_df = pd.DataFrame(results)"
   ]
  },
  {
   "cell_type": "code",
   "execution_count": 20,
   "metadata": {},
   "outputs": [],
   "source": [
    "df_fix = pd.merge(results_df, df_prep, left_on=\"trial\", right_on = \"USER\")"
   ]
  },
  {
   "cell_type": "code",
   "execution_count": 21,
   "metadata": {},
   "outputs": [
    {
     "data": {
      "text/html": [
       "<div>\n",
       "<style scoped>\n",
       "    .dataframe tbody tr th:only-of-type {\n",
       "        vertical-align: middle;\n",
       "    }\n",
       "\n",
       "    .dataframe tbody tr th {\n",
       "        vertical-align: top;\n",
       "    }\n",
       "\n",
       "    .dataframe thead th {\n",
       "        text-align: right;\n",
       "    }\n",
       "</style>\n",
       "<table border=\"1\" class=\"dataframe\">\n",
       "  <thead>\n",
       "    <tr style=\"text-align: right;\">\n",
       "      <th></th>\n",
       "      <th>trial</th>\n",
       "      <th>fixation_count</th>\n",
       "      <th>fixation_duration</th>\n",
       "      <th>TIME</th>\n",
       "      <th>FPOGX</th>\n",
       "      <th>FPOGY</th>\n",
       "      <th>FPOGS</th>\n",
       "      <th>FPOGD</th>\n",
       "      <th>FPOGID</th>\n",
       "      <th>FPOGV</th>\n",
       "      <th>LPUPILD</th>\n",
       "      <th>LPUPILV</th>\n",
       "      <th>RPUPILD</th>\n",
       "      <th>RPUPILV</th>\n",
       "      <th>USER</th>\n",
       "      <th>FileName</th>\n",
       "      <th>max_pupild</th>\n",
       "    </tr>\n",
       "  </thead>\n",
       "  <tbody>\n",
       "    <tr>\n",
       "      <th>0</th>\n",
       "      <td>STIMULI_ONSET1</td>\n",
       "      <td>1778</td>\n",
       "      <td>894.087</td>\n",
       "      <td>148.152</td>\n",
       "      <td>0.498</td>\n",
       "      <td>0.464</td>\n",
       "      <td>147.791</td>\n",
       "      <td>0.361</td>\n",
       "      <td>257.000</td>\n",
       "      <td>1.000</td>\n",
       "      <td>0.006</td>\n",
       "      <td>1.000</td>\n",
       "      <td>0.006</td>\n",
       "      <td>1.000</td>\n",
       "      <td>STIMULI_ONSET1</td>\n",
       "      <td>emorecm4623_e</td>\n",
       "      <td>0.006</td>\n",
       "    </tr>\n",
       "    <tr>\n",
       "      <th>1</th>\n",
       "      <td>STIMULI_ONSET1</td>\n",
       "      <td>1778</td>\n",
       "      <td>894.087</td>\n",
       "      <td>148.170</td>\n",
       "      <td>0.498</td>\n",
       "      <td>0.461</td>\n",
       "      <td>147.791</td>\n",
       "      <td>0.379</td>\n",
       "      <td>257.000</td>\n",
       "      <td>1.000</td>\n",
       "      <td>0.006</td>\n",
       "      <td>1.000</td>\n",
       "      <td>0.006</td>\n",
       "      <td>1.000</td>\n",
       "      <td>STIMULI_ONSET1</td>\n",
       "      <td>emorecm4623_e</td>\n",
       "      <td>0.006</td>\n",
       "    </tr>\n",
       "    <tr>\n",
       "      <th>2</th>\n",
       "      <td>STIMULI_ONSET1</td>\n",
       "      <td>1778</td>\n",
       "      <td>894.087</td>\n",
       "      <td>148.186</td>\n",
       "      <td>0.498</td>\n",
       "      <td>0.459</td>\n",
       "      <td>147.791</td>\n",
       "      <td>0.395</td>\n",
       "      <td>257.000</td>\n",
       "      <td>1.000</td>\n",
       "      <td>0.006</td>\n",
       "      <td>1.000</td>\n",
       "      <td>0.006</td>\n",
       "      <td>1.000</td>\n",
       "      <td>STIMULI_ONSET1</td>\n",
       "      <td>emorecm4623_e</td>\n",
       "      <td>0.006</td>\n",
       "    </tr>\n",
       "    <tr>\n",
       "      <th>3</th>\n",
       "      <td>STIMULI_ONSET1</td>\n",
       "      <td>1778</td>\n",
       "      <td>894.087</td>\n",
       "      <td>148.202</td>\n",
       "      <td>0.498</td>\n",
       "      <td>0.457</td>\n",
       "      <td>147.791</td>\n",
       "      <td>0.412</td>\n",
       "      <td>257.000</td>\n",
       "      <td>1.000</td>\n",
       "      <td>0.006</td>\n",
       "      <td>1.000</td>\n",
       "      <td>0.006</td>\n",
       "      <td>1.000</td>\n",
       "      <td>STIMULI_ONSET1</td>\n",
       "      <td>emorecm4623_e</td>\n",
       "      <td>0.006</td>\n",
       "    </tr>\n",
       "    <tr>\n",
       "      <th>4</th>\n",
       "      <td>STIMULI_ONSET1</td>\n",
       "      <td>1778</td>\n",
       "      <td>894.087</td>\n",
       "      <td>148.221</td>\n",
       "      <td>0.498</td>\n",
       "      <td>0.456</td>\n",
       "      <td>147.791</td>\n",
       "      <td>0.430</td>\n",
       "      <td>257.000</td>\n",
       "      <td>1.000</td>\n",
       "      <td>0.006</td>\n",
       "      <td>1.000</td>\n",
       "      <td>0.006</td>\n",
       "      <td>1.000</td>\n",
       "      <td>STIMULI_ONSET1</td>\n",
       "      <td>emorecm4623_e</td>\n",
       "      <td>0.006</td>\n",
       "    </tr>\n",
       "  </tbody>\n",
       "</table>\n",
       "</div>"
      ],
      "text/plain": [
       "            trial  fixation_count  fixation_duration    TIME FPOGX  FPOGY  \\\n",
       "0  STIMULI_ONSET1            1778            894.087 148.152 0.498  0.464   \n",
       "1  STIMULI_ONSET1            1778            894.087 148.170 0.498  0.461   \n",
       "2  STIMULI_ONSET1            1778            894.087 148.186 0.498  0.459   \n",
       "3  STIMULI_ONSET1            1778            894.087 148.202 0.498  0.457   \n",
       "4  STIMULI_ONSET1            1778            894.087 148.221 0.498  0.456   \n",
       "\n",
       "    FPOGS  FPOGD  FPOGID  FPOGV  LPUPILD  LPUPILV  RPUPILD  RPUPILV  \\\n",
       "0 147.791  0.361 257.000  1.000    0.006    1.000    0.006    1.000   \n",
       "1 147.791  0.379 257.000  1.000    0.006    1.000    0.006    1.000   \n",
       "2 147.791  0.395 257.000  1.000    0.006    1.000    0.006    1.000   \n",
       "3 147.791  0.412 257.000  1.000    0.006    1.000    0.006    1.000   \n",
       "4 147.791  0.430 257.000  1.000    0.006    1.000    0.006    1.000   \n",
       "\n",
       "             USER       FileName  max_pupild  \n",
       "0  STIMULI_ONSET1  emorecm4623_e       0.006  \n",
       "1  STIMULI_ONSET1  emorecm4623_e       0.006  \n",
       "2  STIMULI_ONSET1  emorecm4623_e       0.006  \n",
       "3  STIMULI_ONSET1  emorecm4623_e       0.006  \n",
       "4  STIMULI_ONSET1  emorecm4623_e       0.006  "
      ]
     },
     "execution_count": 21,
     "metadata": {},
     "output_type": "execute_result"
    }
   ],
   "source": [
    "df_fix.head()"
   ]
  },
  {
   "cell_type": "markdown",
   "metadata": {},
   "source": [
    "## Saccade Calculation"
   ]
  },
  {
   "cell_type": "code",
   "execution_count": 22,
   "metadata": {},
   "outputs": [],
   "source": [
    "def calculate_saccade(df):\n",
    "    data = df.copy()\n",
    "    results = []\n",
    "\n",
    "    # Get unique trial names\n",
    "    trials = data['USER'].unique()\n",
    "    participants = data[\"FileName\"].unique()\n",
    "\n",
    "    # Loop through trials and calculate saccade\n",
    "    for participant in participants:\n",
    "        for trial in trials:\n",
    "            result = {}\n",
    "            trial_data = data[data['USER'] == trial]\n",
    "\n",
    "            delta_t = np.array(np.diff(trial_data['TIME']), dtype=np.float64) / 1000.0\n",
    "            delta_x = np.array(np.diff(trial_data['FPOGX']), dtype=np.float64)\n",
    "            delta_y = np.array(np.diff(trial_data['FPOGY']), dtype=np.float64)\n",
    "            velocity = np.sqrt(delta_x**2 + delta_y**2) / delta_t\n",
    "\n",
    "            # Set a velocity threshold for saccade detection\n",
    "            velocity_threshold = 30.0  # degrees per second\n",
    "\n",
    "            # Calculate saccades\n",
    "            saccade = (velocity > velocity_threshold).sum()\n",
    "            saccade_per_sec = saccade / (trial_data['TIME'].iloc[-1] - trial_data['TIME'].iloc[0]) * 1000.0\n",
    "            result[\"USER\"] = trial\n",
    "            result[\"FileName\"] = FileName\n",
    "            result[\"saccade_per_sec\"] = saccade_per_sec\n",
    "            results.append(result)\n",
    "        \n",
    "    return results\n"
   ]
  },
  {
   "cell_type": "code",
   "execution_count": 23,
   "metadata": {},
   "outputs": [],
   "source": [
    "data_saccade_ = calculate_saccade(df_fix)"
   ]
  },
  {
   "cell_type": "code",
   "execution_count": 24,
   "metadata": {},
   "outputs": [],
   "source": [
    "results_df_S = pd.DataFrame(data_saccade_)"
   ]
  },
  {
   "cell_type": "code",
   "execution_count": 25,
   "metadata": {},
   "outputs": [],
   "source": [
    "data_saccade = pd.merge(results_df_S, df_fix, left_on=\"USER\", right_on = \"USER\")"
   ]
  },
  {
   "cell_type": "markdown",
   "metadata": {},
   "source": [
    "## Statistical Analysis"
   ]
  },
  {
   "cell_type": "markdown",
   "metadata": {},
   "source": [
    "1.\tParticipants with high vs low interoceptive awareness (ANOVA, Post-hoc, T-Tests, Correlation)\n",
    "\n",
    "* Differences in eye behaviors (fixation counts, fixation duration and saccades/secs) between two groups for all trials, conditions, gender and accuracy scores. "
   ]
  },
  {
   "attachments": {
    "image.png": {
     "image/png": "[encoded data removed]"
    }
   },
   "cell_type": "markdown",
   "metadata": {},
   "source": [
    "![image.png](attachment:image.png)"
   ]
  },
  {
   "cell_type": "markdown",
   "metadata": {},
   "source": [
    "### Prepare the data for Statistical Analysis"
   ]
  },
  {
   "cell_type": "code",
   "execution_count": 26,
   "metadata": {},
   "outputs": [],
   "source": [
    "data[\"FileName\"] = \"emorec\" + data.apply(lambda row: \"_ctrl\" if row[\"condition\"] ==\"control\" else '', axis=1)+data.apply(lambda row: 'F' if row[\"subgender\"]=='F' else 'm',axis=1)+data.subid.astype(\"str\")+data.subage.astype(\"str\")+\"_e\""
   ]
  },
  {
   "cell_type": "code",
   "execution_count": 27,
   "metadata": {},
   "outputs": [],
   "source": [
    "data[\"FileName\"] = data[\"FileName\"].str.lower()\n",
    "data_saccade[\"FileName\"] = data_saccade[\"FileName\"].str.lower()"
   ]
  },
  {
   "cell_type": "code",
   "execution_count": 28,
   "metadata": {},
   "outputs": [],
   "source": [
    "df_tam = pd.merge(data_saccade,data, left_on=\"FileName\", right_on=\"FileName\")"
   ]
  },
  {
   "cell_type": "code",
   "execution_count": 47,
   "metadata": {},
   "outputs": [],
   "source": [
    "pd.set_option('display.max_columns', None)"
   ]
  },
  {
   "cell_type": "code",
   "execution_count": 56,
   "metadata": {},
   "outputs": [
    {
     "data": {
      "text/plain": [
       "array([ 1,  2,  4,  5,  6,  7,  8,  9, 10, 11, 12, 13, 14, 15, 16, 17, 18,\n",
       "       19, 21, 22, 23, 24, 25, 27, 28, 29, 30, 31, 32, 33, 34, 35, 36, 37,\n",
       "       38, 39, 40, 41, 42, 43, 44, 45, 46, 47, 48, 49, 50, 51, 52, 53, 54,\n",
       "       55, 56, 57, 58, 59, 60, 61, 62, 63, 64, 65, 66, 67, 68, 70, 71, 72,\n",
       "       73, 74, 76, 77, 78, 79, 80, 81, 82, 83], dtype=int64)"
      ]
     },
     "execution_count": 56,
     "metadata": {},
     "output_type": "execute_result"
    }
   ],
   "source": [
    "np.unique(df_tam.subid.value_counts().index)"
   ]
  },
  {
   "cell_type": "code",
   "execution_count": 50,
   "metadata": {},
   "outputs": [
    {
     "data": {
      "text/html": [
       "<div>\n",
       "<style scoped>\n",
       "    .dataframe tbody tr th:only-of-type {\n",
       "        vertical-align: middle;\n",
       "    }\n",
       "\n",
       "    .dataframe tbody tr th {\n",
       "        vertical-align: top;\n",
       "    }\n",
       "\n",
       "    .dataframe thead th {\n",
       "        text-align: right;\n",
       "    }\n",
       "</style>\n",
       "<table border=\"1\" class=\"dataframe\">\n",
       "  <thead>\n",
       "    <tr style=\"text-align: right;\">\n",
       "      <th></th>\n",
       "      <th>USER</th>\n",
       "      <th>saccade_per_sec</th>\n",
       "      <th>trial</th>\n",
       "      <th>fixation_count</th>\n",
       "      <th>fixation_duration</th>\n",
       "      <th>TIME</th>\n",
       "      <th>FPOGX</th>\n",
       "      <th>FPOGY</th>\n",
       "      <th>FPOGS</th>\n",
       "      <th>FPOGD</th>\n",
       "      <th>FPOGID</th>\n",
       "      <th>FPOGV</th>\n",
       "      <th>LPUPILD</th>\n",
       "      <th>LPUPILV</th>\n",
       "      <th>RPUPILD</th>\n",
       "      <th>RPUPILV</th>\n",
       "      <th>FileName</th>\n",
       "      <th>max_pupild</th>\n",
       "      <th>subid</th>\n",
       "      <th>subage</th>\n",
       "      <th>subgender</th>\n",
       "      <th>condition</th>\n",
       "      <th>heartbeats (actual) mean</th>\n",
       "      <th>IAcc</th>\n",
       "      <th>IAcc HighvsLow</th>\n",
       "      <th>sadnessAcc</th>\n",
       "      <th>neutralAcc</th>\n",
       "      <th>happinessAcc</th>\n",
       "      <th>angerAcc</th>\n",
       "      <th>emorec total</th>\n",
       "    </tr>\n",
       "  </thead>\n",
       "  <tbody>\n",
       "    <tr>\n",
       "      <th>0</th>\n",
       "      <td>STIMULI_ONSET1</td>\n",
       "      <td>1922805.688</td>\n",
       "      <td>STIMULI_ONSET1</td>\n",
       "      <td>1778</td>\n",
       "      <td>894.087</td>\n",
       "      <td>148.152</td>\n",
       "      <td>0.498</td>\n",
       "      <td>0.464</td>\n",
       "      <td>147.791</td>\n",
       "      <td>0.361</td>\n",
       "      <td>257.000</td>\n",
       "      <td>1.000</td>\n",
       "      <td>0.006</td>\n",
       "      <td>1.000</td>\n",
       "      <td>0.006</td>\n",
       "      <td>1.000</td>\n",
       "      <td>emorecm4623_e</td>\n",
       "      <td>0.006</td>\n",
       "      <td>46</td>\n",
       "      <td>23</td>\n",
       "      <td>M</td>\n",
       "      <td>self</td>\n",
       "      <td>105.000</td>\n",
       "      <td>0.760</td>\n",
       "      <td>High IAcc</td>\n",
       "      <td>0.500</td>\n",
       "      <td>1.000</td>\n",
       "      <td>0.550</td>\n",
       "      <td>0.160</td>\n",
       "      <td>2.210</td>\n",
       "    </tr>\n",
       "    <tr>\n",
       "      <th>1</th>\n",
       "      <td>STIMULI_ONSET1</td>\n",
       "      <td>1922805.688</td>\n",
       "      <td>STIMULI_ONSET1</td>\n",
       "      <td>1778</td>\n",
       "      <td>894.087</td>\n",
       "      <td>148.170</td>\n",
       "      <td>0.498</td>\n",
       "      <td>0.461</td>\n",
       "      <td>147.791</td>\n",
       "      <td>0.379</td>\n",
       "      <td>257.000</td>\n",
       "      <td>1.000</td>\n",
       "      <td>0.006</td>\n",
       "      <td>1.000</td>\n",
       "      <td>0.006</td>\n",
       "      <td>1.000</td>\n",
       "      <td>emorecm4623_e</td>\n",
       "      <td>0.006</td>\n",
       "      <td>46</td>\n",
       "      <td>23</td>\n",
       "      <td>M</td>\n",
       "      <td>self</td>\n",
       "      <td>105.000</td>\n",
       "      <td>0.760</td>\n",
       "      <td>High IAcc</td>\n",
       "      <td>0.500</td>\n",
       "      <td>1.000</td>\n",
       "      <td>0.550</td>\n",
       "      <td>0.160</td>\n",
       "      <td>2.210</td>\n",
       "    </tr>\n",
       "    <tr>\n",
       "      <th>2</th>\n",
       "      <td>STIMULI_ONSET1</td>\n",
       "      <td>1922805.688</td>\n",
       "      <td>STIMULI_ONSET1</td>\n",
       "      <td>1778</td>\n",
       "      <td>894.087</td>\n",
       "      <td>148.186</td>\n",
       "      <td>0.498</td>\n",
       "      <td>0.459</td>\n",
       "      <td>147.791</td>\n",
       "      <td>0.395</td>\n",
       "      <td>257.000</td>\n",
       "      <td>1.000</td>\n",
       "      <td>0.006</td>\n",
       "      <td>1.000</td>\n",
       "      <td>0.006</td>\n",
       "      <td>1.000</td>\n",
       "      <td>emorecm4623_e</td>\n",
       "      <td>0.006</td>\n",
       "      <td>46</td>\n",
       "      <td>23</td>\n",
       "      <td>M</td>\n",
       "      <td>self</td>\n",
       "      <td>105.000</td>\n",
       "      <td>0.760</td>\n",
       "      <td>High IAcc</td>\n",
       "      <td>0.500</td>\n",
       "      <td>1.000</td>\n",
       "      <td>0.550</td>\n",
       "      <td>0.160</td>\n",
       "      <td>2.210</td>\n",
       "    </tr>\n",
       "    <tr>\n",
       "      <th>3</th>\n",
       "      <td>STIMULI_ONSET1</td>\n",
       "      <td>1922805.688</td>\n",
       "      <td>STIMULI_ONSET1</td>\n",
       "      <td>1778</td>\n",
       "      <td>894.087</td>\n",
       "      <td>148.202</td>\n",
       "      <td>0.498</td>\n",
       "      <td>0.457</td>\n",
       "      <td>147.791</td>\n",
       "      <td>0.412</td>\n",
       "      <td>257.000</td>\n",
       "      <td>1.000</td>\n",
       "      <td>0.006</td>\n",
       "      <td>1.000</td>\n",
       "      <td>0.006</td>\n",
       "      <td>1.000</td>\n",
       "      <td>emorecm4623_e</td>\n",
       "      <td>0.006</td>\n",
       "      <td>46</td>\n",
       "      <td>23</td>\n",
       "      <td>M</td>\n",
       "      <td>self</td>\n",
       "      <td>105.000</td>\n",
       "      <td>0.760</td>\n",
       "      <td>High IAcc</td>\n",
       "      <td>0.500</td>\n",
       "      <td>1.000</td>\n",
       "      <td>0.550</td>\n",
       "      <td>0.160</td>\n",
       "      <td>2.210</td>\n",
       "    </tr>\n",
       "    <tr>\n",
       "      <th>4</th>\n",
       "      <td>STIMULI_ONSET1</td>\n",
       "      <td>1922805.688</td>\n",
       "      <td>STIMULI_ONSET1</td>\n",
       "      <td>1778</td>\n",
       "      <td>894.087</td>\n",
       "      <td>148.221</td>\n",
       "      <td>0.498</td>\n",
       "      <td>0.456</td>\n",
       "      <td>147.791</td>\n",
       "      <td>0.430</td>\n",
       "      <td>257.000</td>\n",
       "      <td>1.000</td>\n",
       "      <td>0.006</td>\n",
       "      <td>1.000</td>\n",
       "      <td>0.006</td>\n",
       "      <td>1.000</td>\n",
       "      <td>emorecm4623_e</td>\n",
       "      <td>0.006</td>\n",
       "      <td>46</td>\n",
       "      <td>23</td>\n",
       "      <td>M</td>\n",
       "      <td>self</td>\n",
       "      <td>105.000</td>\n",
       "      <td>0.760</td>\n",
       "      <td>High IAcc</td>\n",
       "      <td>0.500</td>\n",
       "      <td>1.000</td>\n",
       "      <td>0.550</td>\n",
       "      <td>0.160</td>\n",
       "      <td>2.210</td>\n",
       "    </tr>\n",
       "    <tr>\n",
       "      <th>...</th>\n",
       "      <td>...</td>\n",
       "      <td>...</td>\n",
       "      <td>...</td>\n",
       "      <td>...</td>\n",
       "      <td>...</td>\n",
       "      <td>...</td>\n",
       "      <td>...</td>\n",
       "      <td>...</td>\n",
       "      <td>...</td>\n",
       "      <td>...</td>\n",
       "      <td>...</td>\n",
       "      <td>...</td>\n",
       "      <td>...</td>\n",
       "      <td>...</td>\n",
       "      <td>...</td>\n",
       "      <td>...</td>\n",
       "      <td>...</td>\n",
       "      <td>...</td>\n",
       "      <td>...</td>\n",
       "      <td>...</td>\n",
       "      <td>...</td>\n",
       "      <td>...</td>\n",
       "      <td>...</td>\n",
       "      <td>...</td>\n",
       "      <td>...</td>\n",
       "      <td>...</td>\n",
       "      <td>...</td>\n",
       "      <td>...</td>\n",
       "      <td>...</td>\n",
       "      <td>...</td>\n",
       "    </tr>\n",
       "    <tr>\n",
       "      <th>26550</th>\n",
       "      <td>STIMULI_ONSET32</td>\n",
       "      <td>449033.293</td>\n",
       "      <td>STIMULI_ONSET32</td>\n",
       "      <td>1843</td>\n",
       "      <td>639.681</td>\n",
       "      <td>839.501</td>\n",
       "      <td>0.526</td>\n",
       "      <td>0.425</td>\n",
       "      <td>839.304</td>\n",
       "      <td>0.197</td>\n",
       "      <td>1469.000</td>\n",
       "      <td>1.000</td>\n",
       "      <td>0.006</td>\n",
       "      <td>1.000</td>\n",
       "      <td>0.006</td>\n",
       "      <td>1.000</td>\n",
       "      <td>emorecm4623_e</td>\n",
       "      <td>0.006</td>\n",
       "      <td>46</td>\n",
       "      <td>23</td>\n",
       "      <td>M</td>\n",
       "      <td>self</td>\n",
       "      <td>105.000</td>\n",
       "      <td>0.760</td>\n",
       "      <td>High IAcc</td>\n",
       "      <td>0.500</td>\n",
       "      <td>1.000</td>\n",
       "      <td>0.550</td>\n",
       "      <td>0.160</td>\n",
       "      <td>2.210</td>\n",
       "    </tr>\n",
       "    <tr>\n",
       "      <th>26551</th>\n",
       "      <td>STIMULI_ONSET32</td>\n",
       "      <td>449033.293</td>\n",
       "      <td>STIMULI_ONSET32</td>\n",
       "      <td>1843</td>\n",
       "      <td>639.681</td>\n",
       "      <td>839.518</td>\n",
       "      <td>0.526</td>\n",
       "      <td>0.424</td>\n",
       "      <td>839.304</td>\n",
       "      <td>0.213</td>\n",
       "      <td>1469.000</td>\n",
       "      <td>1.000</td>\n",
       "      <td>0.006</td>\n",
       "      <td>1.000</td>\n",
       "      <td>0.006</td>\n",
       "      <td>1.000</td>\n",
       "      <td>emorecm4623_e</td>\n",
       "      <td>0.006</td>\n",
       "      <td>46</td>\n",
       "      <td>23</td>\n",
       "      <td>M</td>\n",
       "      <td>self</td>\n",
       "      <td>105.000</td>\n",
       "      <td>0.760</td>\n",
       "      <td>High IAcc</td>\n",
       "      <td>0.500</td>\n",
       "      <td>1.000</td>\n",
       "      <td>0.550</td>\n",
       "      <td>0.160</td>\n",
       "      <td>2.210</td>\n",
       "    </tr>\n",
       "    <tr>\n",
       "      <th>26552</th>\n",
       "      <td>STIMULI_ONSET32</td>\n",
       "      <td>449033.293</td>\n",
       "      <td>STIMULI_ONSET32</td>\n",
       "      <td>1843</td>\n",
       "      <td>639.681</td>\n",
       "      <td>839.536</td>\n",
       "      <td>0.526</td>\n",
       "      <td>0.422</td>\n",
       "      <td>839.304</td>\n",
       "      <td>0.232</td>\n",
       "      <td>1469.000</td>\n",
       "      <td>1.000</td>\n",
       "      <td>0.006</td>\n",
       "      <td>1.000</td>\n",
       "      <td>0.006</td>\n",
       "      <td>1.000</td>\n",
       "      <td>emorecm4623_e</td>\n",
       "      <td>0.006</td>\n",
       "      <td>46</td>\n",
       "      <td>23</td>\n",
       "      <td>M</td>\n",
       "      <td>self</td>\n",
       "      <td>105.000</td>\n",
       "      <td>0.760</td>\n",
       "      <td>High IAcc</td>\n",
       "      <td>0.500</td>\n",
       "      <td>1.000</td>\n",
       "      <td>0.550</td>\n",
       "      <td>0.160</td>\n",
       "      <td>2.210</td>\n",
       "    </tr>\n",
       "    <tr>\n",
       "      <th>26553</th>\n",
       "      <td>STIMULI_ONSET32</td>\n",
       "      <td>449033.293</td>\n",
       "      <td>STIMULI_ONSET32</td>\n",
       "      <td>1843</td>\n",
       "      <td>639.681</td>\n",
       "      <td>839.550</td>\n",
       "      <td>0.527</td>\n",
       "      <td>0.419</td>\n",
       "      <td>839.304</td>\n",
       "      <td>0.246</td>\n",
       "      <td>1469.000</td>\n",
       "      <td>1.000</td>\n",
       "      <td>0.006</td>\n",
       "      <td>1.000</td>\n",
       "      <td>0.006</td>\n",
       "      <td>1.000</td>\n",
       "      <td>emorecm4623_e</td>\n",
       "      <td>0.006</td>\n",
       "      <td>46</td>\n",
       "      <td>23</td>\n",
       "      <td>M</td>\n",
       "      <td>self</td>\n",
       "      <td>105.000</td>\n",
       "      <td>0.760</td>\n",
       "      <td>High IAcc</td>\n",
       "      <td>0.500</td>\n",
       "      <td>1.000</td>\n",
       "      <td>0.550</td>\n",
       "      <td>0.160</td>\n",
       "      <td>2.210</td>\n",
       "    </tr>\n",
       "    <tr>\n",
       "      <th>26554</th>\n",
       "      <td>STIMULI_ONSET32</td>\n",
       "      <td>449033.293</td>\n",
       "      <td>STIMULI_ONSET32</td>\n",
       "      <td>1843</td>\n",
       "      <td>639.681</td>\n",
       "      <td>839.568</td>\n",
       "      <td>0.527</td>\n",
       "      <td>0.417</td>\n",
       "      <td>839.304</td>\n",
       "      <td>0.264</td>\n",
       "      <td>1469.000</td>\n",
       "      <td>1.000</td>\n",
       "      <td>0.006</td>\n",
       "      <td>1.000</td>\n",
       "      <td>0.006</td>\n",
       "      <td>1.000</td>\n",
       "      <td>emorecm4623_e</td>\n",
       "      <td>0.006</td>\n",
       "      <td>46</td>\n",
       "      <td>23</td>\n",
       "      <td>M</td>\n",
       "      <td>self</td>\n",
       "      <td>105.000</td>\n",
       "      <td>0.760</td>\n",
       "      <td>High IAcc</td>\n",
       "      <td>0.500</td>\n",
       "      <td>1.000</td>\n",
       "      <td>0.550</td>\n",
       "      <td>0.160</td>\n",
       "      <td>2.210</td>\n",
       "    </tr>\n",
       "  </tbody>\n",
       "</table>\n",
       "<p>26555 rows × 30 columns</p>\n",
       "</div>"
      ],
      "text/plain": [
       "                  USER  saccade_per_sec            trial  fixation_count  \\\n",
       "0       STIMULI_ONSET1      1922805.688   STIMULI_ONSET1            1778   \n",
       "1       STIMULI_ONSET1      1922805.688   STIMULI_ONSET1            1778   \n",
       "2       STIMULI_ONSET1      1922805.688   STIMULI_ONSET1            1778   \n",
       "3       STIMULI_ONSET1      1922805.688   STIMULI_ONSET1            1778   \n",
       "4       STIMULI_ONSET1      1922805.688   STIMULI_ONSET1            1778   \n",
       "...                ...              ...              ...             ...   \n",
       "26550  STIMULI_ONSET32       449033.293  STIMULI_ONSET32            1843   \n",
       "26551  STIMULI_ONSET32       449033.293  STIMULI_ONSET32            1843   \n",
       "26552  STIMULI_ONSET32       449033.293  STIMULI_ONSET32            1843   \n",
       "26553  STIMULI_ONSET32       449033.293  STIMULI_ONSET32            1843   \n",
       "26554  STIMULI_ONSET32       449033.293  STIMULI_ONSET32            1843   \n",
       "\n",
       "       fixation_duration    TIME FPOGX  FPOGY   FPOGS  FPOGD   FPOGID  FPOGV  \\\n",
       "0                894.087 148.152 0.498  0.464 147.791  0.361  257.000  1.000   \n",
       "1                894.087 148.170 0.498  0.461 147.791  0.379  257.000  1.000   \n",
       "2                894.087 148.186 0.498  0.459 147.791  0.395  257.000  1.000   \n",
       "3                894.087 148.202 0.498  0.457 147.791  0.412  257.000  1.000   \n",
       "4                894.087 148.221 0.498  0.456 147.791  0.430  257.000  1.000   \n",
       "...                  ...     ...   ...    ...     ...    ...      ...    ...   \n",
       "26550            639.681 839.501 0.526  0.425 839.304  0.197 1469.000  1.000   \n",
       "26551            639.681 839.518 0.526  0.424 839.304  0.213 1469.000  1.000   \n",
       "26552            639.681 839.536 0.526  0.422 839.304  0.232 1469.000  1.000   \n",
       "26553            639.681 839.550 0.527  0.419 839.304  0.246 1469.000  1.000   \n",
       "26554            639.681 839.568 0.527  0.417 839.304  0.264 1469.000  1.000   \n",
       "\n",
       "       LPUPILD  LPUPILV  RPUPILD  RPUPILV       FileName  max_pupild  subid  \\\n",
       "0        0.006    1.000    0.006    1.000  emorecm4623_e       0.006     46   \n",
       "1        0.006    1.000    0.006    1.000  emorecm4623_e       0.006     46   \n",
       "2        0.006    1.000    0.006    1.000  emorecm4623_e       0.006     46   \n",
       "3        0.006    1.000    0.006    1.000  emorecm4623_e       0.006     46   \n",
       "4        0.006    1.000    0.006    1.000  emorecm4623_e       0.006     46   \n",
       "...        ...      ...      ...      ...            ...         ...    ...   \n",
       "26550    0.006    1.000    0.006    1.000  emorecm4623_e       0.006     46   \n",
       "26551    0.006    1.000    0.006    1.000  emorecm4623_e       0.006     46   \n",
       "26552    0.006    1.000    0.006    1.000  emorecm4623_e       0.006     46   \n",
       "26553    0.006    1.000    0.006    1.000  emorecm4623_e       0.006     46   \n",
       "26554    0.006    1.000    0.006    1.000  emorecm4623_e       0.006     46   \n",
       "\n",
       "       subage subgender condition  heartbeats (actual) mean  IAcc  \\\n",
       "0          23         M      self                   105.000 0.760   \n",
       "1          23         M      self                   105.000 0.760   \n",
       "2          23         M      self                   105.000 0.760   \n",
       "3          23         M      self                   105.000 0.760   \n",
       "4          23         M      self                   105.000 0.760   \n",
       "...       ...       ...       ...                       ...   ...   \n",
       "26550      23         M      self                   105.000 0.760   \n",
       "26551      23         M      self                   105.000 0.760   \n",
       "26552      23         M      self                   105.000 0.760   \n",
       "26553      23         M      self                   105.000 0.760   \n",
       "26554      23         M      self                   105.000 0.760   \n",
       "\n",
       "      IAcc HighvsLow  sadnessAcc  neutralAcc  happinessAcc  angerAcc  \\\n",
       "0          High IAcc       0.500       1.000         0.550     0.160   \n",
       "1          High IAcc       0.500       1.000         0.550     0.160   \n",
       "2          High IAcc       0.500       1.000         0.550     0.160   \n",
       "3          High IAcc       0.500       1.000         0.550     0.160   \n",
       "4          High IAcc       0.500       1.000         0.550     0.160   \n",
       "...              ...         ...         ...           ...       ...   \n",
       "26550      High IAcc       0.500       1.000         0.550     0.160   \n",
       "26551      High IAcc       0.500       1.000         0.550     0.160   \n",
       "26552      High IAcc       0.500       1.000         0.550     0.160   \n",
       "26553      High IAcc       0.500       1.000         0.550     0.160   \n",
       "26554      High IAcc       0.500       1.000         0.550     0.160   \n",
       "\n",
       "       emorec total  \n",
       "0             2.210  \n",
       "1             2.210  \n",
       "2             2.210  \n",
       "3             2.210  \n",
       "4             2.210  \n",
       "...             ...  \n",
       "26550         2.210  \n",
       "26551         2.210  \n",
       "26552         2.210  \n",
       "26553         2.210  \n",
       "26554         2.210  \n",
       "\n",
       "[26555 rows x 30 columns]"
      ]
     },
     "execution_count": 50,
     "metadata": {},
     "output_type": "execute_result"
    }
   ],
   "source": [
    "df_tam[df_tam.FileName=='emorecm4623_e'].sort_values(by=\"TIME\")"
   ]
  },
  {
   "cell_type": "code",
   "execution_count": 45,
   "metadata": {},
   "outputs": [
    {
     "data": {
      "text/plain": [
       "Index(['USER', 'saccade_per_sec', 'trial', 'fixation_count',\n",
       "       'fixation_duration', 'TIME', 'FPOGX', 'FPOGY', 'FPOGS', 'FPOGD',\n",
       "       'FPOGID', 'FPOGV', 'LPUPILD', 'LPUPILV', 'RPUPILD', 'RPUPILV',\n",
       "       'FileName', 'max_pupild', 'subid', 'subage', 'subgender', 'condition',\n",
       "       'heartbeats (actual) mean', 'IAcc', 'IAcc HighvsLow', 'sadnessAcc',\n",
       "       'neutralAcc', 'happinessAcc', 'angerAcc', 'emorec total'],\n",
       "      dtype='object')"
      ]
     },
     "execution_count": 45,
     "metadata": {},
     "output_type": "execute_result"
    }
   ],
   "source": [
    "df_tam.columns"
   ]
  },
  {
   "cell_type": "markdown",
   "metadata": {},
   "source": [
    "#### Data should be in below format"
   ]
  },
  {
   "cell_type": "code",
   "execution_count": 58,
   "metadata": {},
   "outputs": [],
   "source": []
  },
  {
   "cell_type": "code",
   "execution_count": 59,
   "metadata": {},
   "outputs": [
    {
     "data": {
      "text/html": [
       "<div>\n",
       "<style scoped>\n",
       "    .dataframe tbody tr th:only-of-type {\n",
       "        vertical-align: middle;\n",
       "    }\n",
       "\n",
       "    .dataframe tbody tr th {\n",
       "        vertical-align: top;\n",
       "    }\n",
       "\n",
       "    .dataframe thead th {\n",
       "        text-align: right;\n",
       "    }\n",
       "</style>\n",
       "<table border=\"1\" class=\"dataframe\">\n",
       "  <thead>\n",
       "    <tr style=\"text-align: right;\">\n",
       "      <th></th>\n",
       "      <th>PARTICIPANT</th>\n",
       "      <th>GROUP (Control or self)</th>\n",
       "      <th>STIMULI</th>\n",
       "      <th>TYPE</th>\n",
       "      <th>GENDER</th>\n",
       "      <th>EMOTION</th>\n",
       "      <th>RESPONSE</th>\n",
       "      <th>ACCURACY</th>\n",
       "      <th>DURATION</th>\n",
       "      <th>FIXATION_VALIDATION</th>\n",
       "      <th>TOTAL_FIXATION_DURATION</th>\n",
       "      <th>FIXATION_DURATION_PER_COUNT</th>\n",
       "      <th>TOTAL_FIXATION_COUNT</th>\n",
       "      <th>PUPIL_DILATION</th>\n",
       "      <th>RIGHT_PUPIL_DILATION_VALIDATION</th>\n",
       "      <th>LEFT_PUPIL_DILATION_VALIDATION</th>\n",
       "      <th>TOTAL_SACCADE/SECOND</th>\n",
       "    </tr>\n",
       "  </thead>\n",
       "  <tbody>\n",
       "    <tr>\n",
       "      <th>0</th>\n",
       "      <td>1</td>\n",
       "      <td>control</td>\n",
       "      <td>1</td>\n",
       "      <td>High</td>\n",
       "      <td>F</td>\n",
       "      <td>SAD</td>\n",
       "      <td>SAD</td>\n",
       "      <td>1</td>\n",
       "      <td>NaN</td>\n",
       "      <td>NaN</td>\n",
       "      <td>NaN</td>\n",
       "      <td>NaN</td>\n",
       "      <td>NaN</td>\n",
       "      <td>NaN</td>\n",
       "      <td>NaN</td>\n",
       "      <td>NaN</td>\n",
       "      <td>NaN</td>\n",
       "    </tr>\n",
       "    <tr>\n",
       "      <th>1</th>\n",
       "      <td>1</td>\n",
       "      <td>control</td>\n",
       "      <td>2</td>\n",
       "      <td>High</td>\n",
       "      <td>F</td>\n",
       "      <td>HAPPY</td>\n",
       "      <td>HAPPY</td>\n",
       "      <td>1</td>\n",
       "      <td>NaN</td>\n",
       "      <td>NaN</td>\n",
       "      <td>NaN</td>\n",
       "      <td>NaN</td>\n",
       "      <td>NaN</td>\n",
       "      <td>NaN</td>\n",
       "      <td>NaN</td>\n",
       "      <td>NaN</td>\n",
       "      <td>NaN</td>\n",
       "    </tr>\n",
       "    <tr>\n",
       "      <th>2</th>\n",
       "      <td>1</td>\n",
       "      <td>control</td>\n",
       "      <td>3</td>\n",
       "      <td>High</td>\n",
       "      <td>F</td>\n",
       "      <td>ANGRY</td>\n",
       "      <td>ANGRY</td>\n",
       "      <td>1</td>\n",
       "      <td>NaN</td>\n",
       "      <td>NaN</td>\n",
       "      <td>NaN</td>\n",
       "      <td>NaN</td>\n",
       "      <td>NaN</td>\n",
       "      <td>NaN</td>\n",
       "      <td>NaN</td>\n",
       "      <td>NaN</td>\n",
       "      <td>NaN</td>\n",
       "    </tr>\n",
       "    <tr>\n",
       "      <th>3</th>\n",
       "      <td>1</td>\n",
       "      <td>control</td>\n",
       "      <td>4</td>\n",
       "      <td>High</td>\n",
       "      <td>F</td>\n",
       "      <td>ANGRY</td>\n",
       "      <td>NEUTRAL</td>\n",
       "      <td>0</td>\n",
       "      <td>NaN</td>\n",
       "      <td>NaN</td>\n",
       "      <td>NaN</td>\n",
       "      <td>NaN</td>\n",
       "      <td>NaN</td>\n",
       "      <td>NaN</td>\n",
       "      <td>NaN</td>\n",
       "      <td>NaN</td>\n",
       "      <td>NaN</td>\n",
       "    </tr>\n",
       "    <tr>\n",
       "      <th>4</th>\n",
       "      <td>1</td>\n",
       "      <td>control</td>\n",
       "      <td>5</td>\n",
       "      <td>High</td>\n",
       "      <td>F</td>\n",
       "      <td>HAPPY</td>\n",
       "      <td>HAPPY</td>\n",
       "      <td>1</td>\n",
       "      <td>NaN</td>\n",
       "      <td>NaN</td>\n",
       "      <td>NaN</td>\n",
       "      <td>NaN</td>\n",
       "      <td>NaN</td>\n",
       "      <td>NaN</td>\n",
       "      <td>NaN</td>\n",
       "      <td>NaN</td>\n",
       "      <td>NaN</td>\n",
       "    </tr>\n",
       "  </tbody>\n",
       "</table>\n",
       "</div>"
      ],
      "text/plain": [
       "   PARTICIPANT GROUP (Control or self)  STIMULI  TYPE GENDER EMOTION RESPONSE  \\\n",
       "0            1                 control        1  High      F     SAD      SAD   \n",
       "1            1                 control        2  High      F   HAPPY    HAPPY   \n",
       "2            1                 control        3  High      F   ANGRY    ANGRY   \n",
       "3            1                 control        4  High      F   ANGRY  NEUTRAL   \n",
       "4            1                 control        5  High      F   HAPPY    HAPPY   \n",
       "\n",
       "   ACCURACY  DURATION  FIXATION_VALIDATION  TOTAL_FIXATION_DURATION  \\\n",
       "0         1       NaN                  NaN                      NaN   \n",
       "1         1       NaN                  NaN                      NaN   \n",
       "2         1       NaN                  NaN                      NaN   \n",
       "3         0       NaN                  NaN                      NaN   \n",
       "4         1       NaN                  NaN                      NaN   \n",
       "\n",
       "   FIXATION_DURATION_PER_COUNT  TOTAL_FIXATION_COUNT  PUPIL_DILATION  \\\n",
       "0                          NaN                   NaN             NaN   \n",
       "1                          NaN                   NaN             NaN   \n",
       "2                          NaN                   NaN             NaN   \n",
       "3                          NaN                   NaN             NaN   \n",
       "4                          NaN                   NaN             NaN   \n",
       "\n",
       "   RIGHT_PUPIL_DILATION_VALIDATION  LEFT_PUPIL_DILATION_VALIDATION  \\\n",
       "0                              NaN                             NaN   \n",
       "1                              NaN                             NaN   \n",
       "2                              NaN                             NaN   \n",
       "3                              NaN                             NaN   \n",
       "4                              NaN                             NaN   \n",
       "\n",
       "   TOTAL_SACCADE/SECOND  \n",
       "0                   NaN  \n",
       "1                   NaN  \n",
       "2                   NaN  \n",
       "3                   NaN  \n",
       "4                   NaN  "
      ]
     },
     "execution_count": 59,
     "metadata": {},
     "output_type": "execute_result"
    }
   ],
   "source": [
    "sample_data.head()"
   ]
  },
  {
   "cell_type": "code",
   "execution_count": null,
   "metadata": {},
   "outputs": [],
   "source": [
    "df_tam[[\"FileName\",\"condition\",\"USER\", 'IAcc HighvsLow','subgender','subage']]"
   ]
  },
  {
   "cell_type": "code",
   "execution_count": 44,
   "metadata": {},
   "outputs": [
    {
     "data": {
      "text/plain": [
       "Index(['USER', 'saccade_per_sec', 'trial', 'fixation_count',\n",
       "       'fixation_duration', 'TIME', 'FPOGX', 'FPOGY', 'FPOGS', 'FPOGD',\n",
       "       'FPOGID', 'FPOGV', 'LPUPILD', 'LPUPILV', 'RPUPILD', 'RPUPILV',\n",
       "       'FileName', 'max_pupild', 'subid', 'subage', 'subgender', 'condition',\n",
       "       'heartbeats (actual) mean', 'IAcc', 'IAcc HighvsLow', 'sadnessAcc',\n",
       "       'neutralAcc', 'happinessAcc', 'angerAcc', 'emorec total'],\n",
       "      dtype='object')"
      ]
     },
     "execution_count": 44,
     "metadata": {},
     "output_type": "execute_result"
    }
   ],
   "source": [
    "df_tam.columns"
   ]
  },
  {
   "cell_type": "code",
   "execution_count": 31,
   "metadata": {},
   "outputs": [
    {
     "data": {
      "text/html": [
       "<div>\n",
       "<style scoped>\n",
       "    .dataframe tbody tr th:only-of-type {\n",
       "        vertical-align: middle;\n",
       "    }\n",
       "\n",
       "    .dataframe tbody tr th {\n",
       "        vertical-align: top;\n",
       "    }\n",
       "\n",
       "    .dataframe thead th {\n",
       "        text-align: right;\n",
       "    }\n",
       "</style>\n",
       "<table border=\"1\" class=\"dataframe\">\n",
       "  <thead>\n",
       "    <tr style=\"text-align: right;\">\n",
       "      <th></th>\n",
       "      <th>USER</th>\n",
       "      <th>trial</th>\n",
       "      <th>FPOGX</th>\n",
       "      <th>FileName</th>\n",
       "      <th>subgender</th>\n",
       "      <th>condition</th>\n",
       "      <th>IAcc HighvsLow</th>\n",
       "    </tr>\n",
       "  </thead>\n",
       "  <tbody>\n",
       "    <tr>\n",
       "      <th>count</th>\n",
       "      <td>2410768</td>\n",
       "      <td>2410768</td>\n",
       "      <td>2410768.000</td>\n",
       "      <td>2410768</td>\n",
       "      <td>2410768</td>\n",
       "      <td>2410768</td>\n",
       "      <td>2410768</td>\n",
       "    </tr>\n",
       "    <tr>\n",
       "      <th>unique</th>\n",
       "      <td>32</td>\n",
       "      <td>32</td>\n",
       "      <td>68040.000</td>\n",
       "      <td>78</td>\n",
       "      <td>2</td>\n",
       "      <td>2</td>\n",
       "      <td>2</td>\n",
       "    </tr>\n",
       "    <tr>\n",
       "      <th>top</th>\n",
       "      <td>STIMULI_ONSET16</td>\n",
       "      <td>STIMULI_ONSET16</td>\n",
       "      <td>0.517</td>\n",
       "      <td>emorec_ctrlf6721_e</td>\n",
       "      <td>M</td>\n",
       "      <td>self</td>\n",
       "      <td>High IAcc</td>\n",
       "    </tr>\n",
       "    <tr>\n",
       "      <th>freq</th>\n",
       "      <td>85334</td>\n",
       "      <td>85334</td>\n",
       "      <td>257.000</td>\n",
       "      <td>40799</td>\n",
       "      <td>1240940</td>\n",
       "      <td>1225580</td>\n",
       "      <td>1265115</td>\n",
       "    </tr>\n",
       "  </tbody>\n",
       "</table>\n",
       "</div>"
      ],
      "text/plain": [
       "                   USER            trial       FPOGX            FileName  \\\n",
       "count           2410768          2410768 2410768.000             2410768   \n",
       "unique               32               32   68040.000                  78   \n",
       "top     STIMULI_ONSET16  STIMULI_ONSET16       0.517  emorec_ctrlf6721_e   \n",
       "freq              85334            85334     257.000               40799   \n",
       "\n",
       "       subgender condition IAcc HighvsLow  \n",
       "count    2410768   2410768        2410768  \n",
       "unique         2         2              2  \n",
       "top            M      self      High IAcc  \n",
       "freq     1240940   1225580        1265115  "
      ]
     },
     "execution_count": 31,
     "metadata": {},
     "output_type": "execute_result"
    }
   ],
   "source": [
    "df_tam.select_dtypes(\"object\").describe()"
   ]
  },
  {
   "cell_type": "code",
   "execution_count": 32,
   "metadata": {},
   "outputs": [
    {
     "data": {
      "text/plain": [
       "<AxesSubplot:xlabel='IAcc HighvsLow', ylabel='count'>"
      ]
     },
     "execution_count": 32,
     "metadata": {},
     "output_type": "execute_result"
    },
    {
     "data": {
      "image/png": "[encoded data removed]",
      "text/plain": [
       "<Figure size 432x288 with 1 Axes>"
      ]
     },
     "metadata": {
      "needs_background": "light"
     },
     "output_type": "display_data"
    }
   ],
   "source": [
    "sns.countplot(x=\"IAcc HighvsLow\",data=df_tam)"
   ]
  },
  {
   "cell_type": "code",
   "execution_count": 33,
   "metadata": {},
   "outputs": [
    {
     "data": {
      "text/plain": [
       "Index(['USER', 'saccade_per_sec', 'trial', 'fixation_count',\n",
       "       'fixation_duration', 'TIME', 'FPOGX', 'FPOGY', 'FPOGS', 'FPOGD',\n",
       "       'FPOGID', 'FPOGV', 'LPUPILD', 'LPUPILV', 'RPUPILD', 'RPUPILV',\n",
       "       'FileName', 'max_pupild', 'subid', 'subage', 'subgender', 'condition',\n",
       "       'heartbeats (actual) mean', 'IAcc', 'IAcc HighvsLow', 'sadnessAcc',\n",
       "       'neutralAcc', 'happinessAcc', 'angerAcc', 'emorec total'],\n",
       "      dtype='object')"
      ]
     },
     "execution_count": 33,
     "metadata": {},
     "output_type": "execute_result"
    }
   ],
   "source": [
    "df_tam.columns"
   ]
  },
  {
   "cell_type": "code",
   "execution_count": 34,
   "metadata": {},
   "outputs": [
    {
     "name": "stderr",
     "output_type": "stream",
     "text": [
      "C:\\Users\\SAMSUNG\\AppData\\Local\\Temp\\ipykernel_3024\\407366150.py:1: FutureWarning: Indexing with multiple keys (implicitly converted to a tuple of keys) will be deprecated, use a list instead.\n",
      "  df_tam.groupby([\"IAcc HighvsLow\"])[\"fixation_count\",\"fixation_duration\",\"saccade_per_sec\"].mean()\n"
     ]
    },
    {
     "data": {
      "text/html": [
       "<div>\n",
       "<style scoped>\n",
       "    .dataframe tbody tr th:only-of-type {\n",
       "        vertical-align: middle;\n",
       "    }\n",
       "\n",
       "    .dataframe tbody tr th {\n",
       "        vertical-align: top;\n",
       "    }\n",
       "\n",
       "    .dataframe thead th {\n",
       "        text-align: right;\n",
       "    }\n",
       "</style>\n",
       "<table border=\"1\" class=\"dataframe\">\n",
       "  <thead>\n",
       "    <tr style=\"text-align: right;\">\n",
       "      <th></th>\n",
       "      <th>fixation_count</th>\n",
       "      <th>fixation_duration</th>\n",
       "      <th>saccade_per_sec</th>\n",
       "    </tr>\n",
       "    <tr>\n",
       "      <th>IAcc HighvsLow</th>\n",
       "      <th></th>\n",
       "      <th></th>\n",
       "      <th></th>\n",
       "    </tr>\n",
       "  </thead>\n",
       "  <tbody>\n",
       "    <tr>\n",
       "      <th>High IAcc</th>\n",
       "      <td>1934.523</td>\n",
       "      <td>932.459</td>\n",
       "      <td>1047373.015</td>\n",
       "    </tr>\n",
       "    <tr>\n",
       "      <th>Low IAcc</th>\n",
       "      <td>1934.520</td>\n",
       "      <td>950.448</td>\n",
       "      <td>1048438.007</td>\n",
       "    </tr>\n",
       "  </tbody>\n",
       "</table>\n",
       "</div>"
      ],
      "text/plain": [
       "                fixation_count  fixation_duration  saccade_per_sec\n",
       "IAcc HighvsLow                                                    \n",
       "High IAcc             1934.523            932.459      1047373.015\n",
       "Low IAcc              1934.520            950.448      1048438.007"
      ]
     },
     "execution_count": 34,
     "metadata": {},
     "output_type": "execute_result"
    }
   ],
   "source": [
    "df_tam.groupby([\"IAcc HighvsLow\"])[\"fixation_count\",\"fixation_duration\",\"saccade_per_sec\"].mean()"
   ]
  },
  {
   "cell_type": "code",
   "execution_count": 35,
   "metadata": {},
   "outputs": [
    {
     "name": "stderr",
     "output_type": "stream",
     "text": [
      "C:\\Users\\SAMSUNG\\AppData\\Local\\Temp\\ipykernel_3024\\2226285092.py:1: FutureWarning: Indexing with multiple keys (implicitly converted to a tuple of keys) will be deprecated, use a list instead.\n",
      "  df_tam.groupby([\"USER\"])[\"fixation_count\",\"fixation_duration\",\"saccade_per_sec\"].mean().T\n"
     ]
    },
    {
     "data": {
      "text/html": [
       "<div>\n",
       "<style scoped>\n",
       "    .dataframe tbody tr th:only-of-type {\n",
       "        vertical-align: middle;\n",
       "    }\n",
       "\n",
       "    .dataframe tbody tr th {\n",
       "        vertical-align: top;\n",
       "    }\n",
       "\n",
       "    .dataframe thead th {\n",
       "        text-align: right;\n",
       "    }\n",
       "</style>\n",
       "<table border=\"1\" class=\"dataframe\">\n",
       "  <thead>\n",
       "    <tr style=\"text-align: right;\">\n",
       "      <th>USER</th>\n",
       "      <th>STIMULI_ONSET1</th>\n",
       "      <th>STIMULI_ONSET10</th>\n",
       "      <th>STIMULI_ONSET11</th>\n",
       "      <th>STIMULI_ONSET12</th>\n",
       "      <th>STIMULI_ONSET13</th>\n",
       "      <th>STIMULI_ONSET14</th>\n",
       "      <th>STIMULI_ONSET15</th>\n",
       "      <th>STIMULI_ONSET16</th>\n",
       "      <th>STIMULI_ONSET17</th>\n",
       "      <th>STIMULI_ONSET18</th>\n",
       "      <th>...</th>\n",
       "      <th>STIMULI_ONSET3</th>\n",
       "      <th>STIMULI_ONSET30</th>\n",
       "      <th>STIMULI_ONSET31</th>\n",
       "      <th>STIMULI_ONSET32</th>\n",
       "      <th>STIMULI_ONSET4</th>\n",
       "      <th>STIMULI_ONSET5</th>\n",
       "      <th>STIMULI_ONSET6</th>\n",
       "      <th>STIMULI_ONSET7</th>\n",
       "      <th>STIMULI_ONSET8</th>\n",
       "      <th>STIMULI_ONSET9</th>\n",
       "    </tr>\n",
       "  </thead>\n",
       "  <tbody>\n",
       "    <tr>\n",
       "      <th>fixation_count</th>\n",
       "      <td>1778.000</td>\n",
       "      <td>1669.000</td>\n",
       "      <td>1839.000</td>\n",
       "      <td>1884.000</td>\n",
       "      <td>1998.000</td>\n",
       "      <td>1854.000</td>\n",
       "      <td>1924.000</td>\n",
       "      <td>2115.000</td>\n",
       "      <td>2048.000</td>\n",
       "      <td>1932.000</td>\n",
       "      <td>...</td>\n",
       "      <td>1606.000</td>\n",
       "      <td>1988.000</td>\n",
       "      <td>1988.000</td>\n",
       "      <td>1843.000</td>\n",
       "      <td>1795.000</td>\n",
       "      <td>1686.000</td>\n",
       "      <td>1831.000</td>\n",
       "      <td>2137.000</td>\n",
       "      <td>2097.000</td>\n",
       "      <td>1811.000</td>\n",
       "    </tr>\n",
       "    <tr>\n",
       "      <th>fixation_duration</th>\n",
       "      <td>894.087</td>\n",
       "      <td>690.724</td>\n",
       "      <td>5694.525</td>\n",
       "      <td>712.936</td>\n",
       "      <td>761.595</td>\n",
       "      <td>751.587</td>\n",
       "      <td>775.445</td>\n",
       "      <td>904.278</td>\n",
       "      <td>848.031</td>\n",
       "      <td>1007.975</td>\n",
       "      <td>...</td>\n",
       "      <td>736.429</td>\n",
       "      <td>843.082</td>\n",
       "      <td>636.805</td>\n",
       "      <td>639.681</td>\n",
       "      <td>719.775</td>\n",
       "      <td>763.210</td>\n",
       "      <td>698.481</td>\n",
       "      <td>837.245</td>\n",
       "      <td>1020.629</td>\n",
       "      <td>748.671</td>\n",
       "    </tr>\n",
       "    <tr>\n",
       "      <th>saccade_per_sec</th>\n",
       "      <td>1922805.688</td>\n",
       "      <td>2294733.931</td>\n",
       "      <td>3464495.522</td>\n",
       "      <td>1361664.082</td>\n",
       "      <td>1364089.799</td>\n",
       "      <td>965896.750</td>\n",
       "      <td>1324256.222</td>\n",
       "      <td>875392.832</td>\n",
       "      <td>880829.030</td>\n",
       "      <td>626581.022</td>\n",
       "      <td>...</td>\n",
       "      <td>1124683.401</td>\n",
       "      <td>553295.661</td>\n",
       "      <td>447624.390</td>\n",
       "      <td>449033.293</td>\n",
       "      <td>1446834.192</td>\n",
       "      <td>1461617.355</td>\n",
       "      <td>1128265.911</td>\n",
       "      <td>928512.816</td>\n",
       "      <td>1288377.129</td>\n",
       "      <td>1623447.025</td>\n",
       "    </tr>\n",
       "  </tbody>\n",
       "</table>\n",
       "<p>3 rows × 32 columns</p>\n",
       "</div>"
      ],
      "text/plain": [
       "USER               STIMULI_ONSET1  STIMULI_ONSET10  STIMULI_ONSET11  \\\n",
       "fixation_count           1778.000         1669.000         1839.000   \n",
       "fixation_duration         894.087          690.724         5694.525   \n",
       "saccade_per_sec       1922805.688      2294733.931      3464495.522   \n",
       "\n",
       "USER               STIMULI_ONSET12  STIMULI_ONSET13  STIMULI_ONSET14  \\\n",
       "fixation_count            1884.000         1998.000         1854.000   \n",
       "fixation_duration          712.936          761.595          751.587   \n",
       "saccade_per_sec        1361664.082      1364089.799       965896.750   \n",
       "\n",
       "USER               STIMULI_ONSET15  STIMULI_ONSET16  STIMULI_ONSET17  \\\n",
       "fixation_count            1924.000         2115.000         2048.000   \n",
       "fixation_duration          775.445          904.278          848.031   \n",
       "saccade_per_sec        1324256.222       875392.832       880829.030   \n",
       "\n",
       "USER               STIMULI_ONSET18  ...  STIMULI_ONSET3  STIMULI_ONSET30  \\\n",
       "fixation_count            1932.000  ...        1606.000         1988.000   \n",
       "fixation_duration         1007.975  ...         736.429          843.082   \n",
       "saccade_per_sec         626581.022  ...     1124683.401       553295.661   \n",
       "\n",
       "USER               STIMULI_ONSET31  STIMULI_ONSET32  STIMULI_ONSET4  \\\n",
       "fixation_count            1988.000         1843.000        1795.000   \n",
       "fixation_duration          636.805          639.681         719.775   \n",
       "saccade_per_sec         447624.390       449033.293     1446834.192   \n",
       "\n",
       "USER               STIMULI_ONSET5  STIMULI_ONSET6  STIMULI_ONSET7  \\\n",
       "fixation_count           1686.000        1831.000        2137.000   \n",
       "fixation_duration         763.210         698.481         837.245   \n",
       "saccade_per_sec       1461617.355     1128265.911      928512.816   \n",
       "\n",
       "USER               STIMULI_ONSET8  STIMULI_ONSET9  \n",
       "fixation_count           2097.000        1811.000  \n",
       "fixation_duration        1020.629         748.671  \n",
       "saccade_per_sec       1288377.129     1623447.025  \n",
       "\n",
       "[3 rows x 32 columns]"
      ]
     },
     "execution_count": 35,
     "metadata": {},
     "output_type": "execute_result"
    }
   ],
   "source": [
    "df_tam.groupby([\"USER\"])[\"fixation_count\",\"fixation_duration\",\"saccade_per_sec\"].mean().T"
   ]
  },
  {
   "cell_type": "code",
   "execution_count": 36,
   "metadata": {},
   "outputs": [
    {
     "name": "stderr",
     "output_type": "stream",
     "text": [
      "C:\\Users\\SAMSUNG\\AppData\\Local\\Temp\\ipykernel_3024\\2983582074.py:1: FutureWarning: Indexing with multiple keys (implicitly converted to a tuple of keys) will be deprecated, use a list instead.\n",
      "  df_tam.groupby([\"subgender\"])[\"fixation_count\",\"fixation_duration\",\"saccade_per_sec\"].mean()\n"
     ]
    },
    {
     "data": {
      "text/html": [
       "<div>\n",
       "<style scoped>\n",
       "    .dataframe tbody tr th:only-of-type {\n",
       "        vertical-align: middle;\n",
       "    }\n",
       "\n",
       "    .dataframe tbody tr th {\n",
       "        vertical-align: top;\n",
       "    }\n",
       "\n",
       "    .dataframe thead th {\n",
       "        text-align: right;\n",
       "    }\n",
       "</style>\n",
       "<table border=\"1\" class=\"dataframe\">\n",
       "  <thead>\n",
       "    <tr style=\"text-align: right;\">\n",
       "      <th></th>\n",
       "      <th>fixation_count</th>\n",
       "      <th>fixation_duration</th>\n",
       "      <th>saccade_per_sec</th>\n",
       "    </tr>\n",
       "    <tr>\n",
       "      <th>subgender</th>\n",
       "      <th></th>\n",
       "      <th></th>\n",
       "      <th></th>\n",
       "    </tr>\n",
       "  </thead>\n",
       "  <tbody>\n",
       "    <tr>\n",
       "      <th>F</th>\n",
       "      <td>1930.967</td>\n",
       "      <td>950.490</td>\n",
       "      <td>1058214.004</td>\n",
       "    </tr>\n",
       "    <tr>\n",
       "      <th>M</th>\n",
       "      <td>1937.872</td>\n",
       "      <td>932.069</td>\n",
       "      <td>1038136.483</td>\n",
       "    </tr>\n",
       "  </tbody>\n",
       "</table>\n",
       "</div>"
      ],
      "text/plain": [
       "           fixation_count  fixation_duration  saccade_per_sec\n",
       "subgender                                                    \n",
       "F                1930.967            950.490      1058214.004\n",
       "M                1937.872            932.069      1038136.483"
      ]
     },
     "execution_count": 36,
     "metadata": {},
     "output_type": "execute_result"
    }
   ],
   "source": [
    "df_tam.groupby([\"subgender\"])[\"fixation_count\",\"fixation_duration\",\"saccade_per_sec\"].mean()"
   ]
  },
  {
   "cell_type": "code",
   "execution_count": 37,
   "metadata": {},
   "outputs": [
    {
     "name": "stderr",
     "output_type": "stream",
     "text": [
      "C:\\Users\\SAMSUNG\\AppData\\Local\\Temp\\ipykernel_3024\\407366150.py:1: FutureWarning: Indexing with multiple keys (implicitly converted to a tuple of keys) will be deprecated, use a list instead.\n",
      "  df_tam.groupby([\"IAcc HighvsLow\"])[\"fixation_count\",\"fixation_duration\",\"saccade_per_sec\"].mean()\n"
     ]
    },
    {
     "data": {
      "text/html": [
       "<div>\n",
       "<style scoped>\n",
       "    .dataframe tbody tr th:only-of-type {\n",
       "        vertical-align: middle;\n",
       "    }\n",
       "\n",
       "    .dataframe tbody tr th {\n",
       "        vertical-align: top;\n",
       "    }\n",
       "\n",
       "    .dataframe thead th {\n",
       "        text-align: right;\n",
       "    }\n",
       "</style>\n",
       "<table border=\"1\" class=\"dataframe\">\n",
       "  <thead>\n",
       "    <tr style=\"text-align: right;\">\n",
       "      <th></th>\n",
       "      <th>fixation_count</th>\n",
       "      <th>fixation_duration</th>\n",
       "      <th>saccade_per_sec</th>\n",
       "    </tr>\n",
       "    <tr>\n",
       "      <th>IAcc HighvsLow</th>\n",
       "      <th></th>\n",
       "      <th></th>\n",
       "      <th></th>\n",
       "    </tr>\n",
       "  </thead>\n",
       "  <tbody>\n",
       "    <tr>\n",
       "      <th>High IAcc</th>\n",
       "      <td>1934.523</td>\n",
       "      <td>932.459</td>\n",
       "      <td>1047373.015</td>\n",
       "    </tr>\n",
       "    <tr>\n",
       "      <th>Low IAcc</th>\n",
       "      <td>1934.520</td>\n",
       "      <td>950.448</td>\n",
       "      <td>1048438.007</td>\n",
       "    </tr>\n",
       "  </tbody>\n",
       "</table>\n",
       "</div>"
      ],
      "text/plain": [
       "                fixation_count  fixation_duration  saccade_per_sec\n",
       "IAcc HighvsLow                                                    \n",
       "High IAcc             1934.523            932.459      1047373.015\n",
       "Low IAcc              1934.520            950.448      1048438.007"
      ]
     },
     "execution_count": 37,
     "metadata": {},
     "output_type": "execute_result"
    }
   ],
   "source": [
    "df_tam.groupby([\"IAcc HighvsLow\"])[\"fixation_count\",\"fixation_duration\",\"saccade_per_sec\"].mean()"
   ]
  },
  {
   "cell_type": "code",
   "execution_count": 38,
   "metadata": {},
   "outputs": [],
   "source": [
    "korr = df_tam[[\"fixation_count\",\"fixation_duration\",\"saccade_per_sec\",\"subage\",'IAcc', 'sadnessAcc',\n",
    "       'neutralAcc', 'happinessAcc', 'angerAcc']].corr(method=\"spearman\")"
   ]
  },
  {
   "cell_type": "code",
   "execution_count": 39,
   "metadata": {},
   "outputs": [
    {
     "data": {
      "image/png": "[encoded data removed]",
      "text/plain": [
       "<Figure size 1080x720 with 2 Axes>"
      ]
     },
     "metadata": {
      "needs_background": "light"
     },
     "output_type": "display_data"
    }
   ],
   "source": [
    "plt.figure(figsize = (15,10))\n",
    "sns.heatmap(korr, annot=True, cmap='coolwarm', vmin=-1, vmax=1)\n",
    "plt.show()"
   ]
  },
  {
   "cell_type": "code",
   "execution_count": 40,
   "metadata": {},
   "outputs": [],
   "source": [
    "import statsmodels.api as sm\n",
    "from statsmodels.formula.api import ols"
   ]
  },
  {
   "cell_type": "code",
   "execution_count": 41,
   "metadata": {},
   "outputs": [
    {
     "name": "stdout",
     "output_type": "stream",
     "text": [
      "                          sum_sq          df     F  PR(>F)\n",
      "condition      1472725111832.030       1.000 3.616   0.057\n",
      "Residual  981754949828014080.000 2410766.000   NaN     NaN\n"
     ]
    }
   ],
   "source": [
    "# Define the ANOVA model using the formula interface\n",
    "model = ols('saccade_per_sec ~ condition', data=df_tam).fit()\n",
    "\n",
    "# Print ANOVA table\n",
    "print(sm.stats.anova_lm(model, typ=2))"
   ]
  },
  {
   "cell_type": "markdown",
   "metadata": {},
   "source": [
    "* Differences in eye behaviors (fixation counts, fixation duration and saccades/secs) between two groups for accurate trials."
   ]
  },
  {
   "cell_type": "code",
   "execution_count": null,
   "metadata": {},
   "outputs": [],
   "source": []
  },
  {
   "cell_type": "markdown",
   "metadata": {},
   "source": [
    "2.\tMain effects and interactions in terms of eye behaviors (fixation counts, fixation duration and saccades/secs) between two groups for all trials, conditions, genders and accuracy scores. (ANOVA, Post hoc, T-Tests, Correlation)"
   ]
  },
  {
   "cell_type": "code",
   "execution_count": null,
   "metadata": {},
   "outputs": [],
   "source": []
  },
  {
   "cell_type": "markdown",
   "metadata": {},
   "source": [
    "## Machine Learning"
   ]
  }
 ],
 "metadata": {
  "kernelspec": {
   "display_name": "Python 3 (ipykernel)",
   "language": "python",
   "name": "python3"
  },
  "language_info": {
   "codemirror_mode": {
    "name": "ipython",
    "version": 3
   },
   "file_extension": ".py",
   "mimetype": "text/x-python",
   "name": "python",
   "nbconvert_exporter": "python",
   "pygments_lexer": "ipython3",
   "version": "3.9.12"
  }
 },
 "nbformat": 4,
 "nbformat_minor": 2
}
